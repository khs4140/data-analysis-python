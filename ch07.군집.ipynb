{
 "cells": [
  {
   "cell_type": "markdown",
   "id": "62bb4cc1",
   "metadata": {},
   "source": [
    "# 군집(Cluster)\n",
    "\n",
    "    - 분류 : 독립변수와 종속변수 모두 주어진 상태에서 훈련, 테스트 데이터를를 통해 종속변수를 예측하는 지도학습(Supervised-Learning)\n",
    "    - 군집 : 독립변수만 주어진 상태에서 데이터의 유사성을 통해 지정된 개수(k)로 군집을 형성하는 비지도학습(Unsupervised-Learning)\n",
    "        - 계층적 군집방법 : 가장 거리가 가까운 개체들을 결합해 나가는 과정을 반복함으로써 생성 (한번 데이터 군집 부여된 데이터는 변하지 않음)\n",
    "            - 단일연결법, 완전연결법, 중심연결법, median연결법, ward연결법\n",
    "        - 비계층적 군집방법 : 부여된 군집 변할 수 있음\n",
    "            - kmeans kmedoids ...\n",
    "           "
   ]
  },
  {
   "cell_type": "code",
   "execution_count": 1,
   "id": "e56f111f",
   "metadata": {
    "ExecuteTime": {
     "end_time": "2022-07-18T05:07:49.720577Z",
     "start_time": "2022-07-18T05:07:49.518750Z"
    }
   },
   "outputs": [
    {
     "name": "stdout",
     "output_type": "stream",
     "text": [
      "<class 'pandas.core.frame.DataFrame'>\n",
      "RangeIndex: 100 entries, 0 to 99\n",
      "Data columns (total 3 columns):\n",
      " #   Column  Non-Null Count  Dtype \n",
      "---  ------  --------------  ----- \n",
      " 0   breeds  100 non-null    object\n",
      " 1   weight  100 non-null    int64 \n",
      " 2   food    100 non-null    int64 \n",
      "dtypes: int64(2), object(1)\n",
      "memory usage: 2.5+ KB\n"
     ]
    }
   ],
   "source": [
    "import pandas as pd\n",
    "data = pd.read_csv('./dataset/ch6-3.csv')\n",
    "data.info()"
   ]
  },
  {
   "cell_type": "code",
   "execution_count": 2,
   "id": "3eec08df",
   "metadata": {
    "ExecuteTime": {
     "end_time": "2022-07-18T05:07:57.905896Z",
     "start_time": "2022-07-18T05:07:57.884245Z"
    }
   },
   "outputs": [
    {
     "data": {
      "text/html": [
       "<div>\n",
       "<style scoped>\n",
       "    .dataframe tbody tr th:only-of-type {\n",
       "        vertical-align: middle;\n",
       "    }\n",
       "\n",
       "    .dataframe tbody tr th {\n",
       "        vertical-align: top;\n",
       "    }\n",
       "\n",
       "    .dataframe thead th {\n",
       "        text-align: right;\n",
       "    }\n",
       "</style>\n",
       "<table border=\"1\" class=\"dataframe\">\n",
       "  <thead>\n",
       "    <tr style=\"text-align: right;\">\n",
       "      <th></th>\n",
       "      <th>breeds</th>\n",
       "      <th>weight</th>\n",
       "      <th>food</th>\n",
       "    </tr>\n",
       "  </thead>\n",
       "  <tbody>\n",
       "    <tr>\n",
       "      <th>0</th>\n",
       "      <td>a</td>\n",
       "      <td>2765</td>\n",
       "      <td>217</td>\n",
       "    </tr>\n",
       "    <tr>\n",
       "      <th>1</th>\n",
       "      <td>a</td>\n",
       "      <td>2843</td>\n",
       "      <td>235</td>\n",
       "    </tr>\n",
       "    <tr>\n",
       "      <th>2</th>\n",
       "      <td>a</td>\n",
       "      <td>2678</td>\n",
       "      <td>207</td>\n",
       "    </tr>\n",
       "    <tr>\n",
       "      <th>3</th>\n",
       "      <td>a</td>\n",
       "      <td>2595</td>\n",
       "      <td>204</td>\n",
       "    </tr>\n",
       "    <tr>\n",
       "      <th>4</th>\n",
       "      <td>a</td>\n",
       "      <td>2734</td>\n",
       "      <td>226</td>\n",
       "    </tr>\n",
       "  </tbody>\n",
       "</table>\n",
       "</div>"
      ],
      "text/plain": [
       "  breeds  weight  food\n",
       "0      a    2765   217\n",
       "1      a    2843   235\n",
       "2      a    2678   207\n",
       "3      a    2595   204\n",
       "4      a    2734   226"
      ]
     },
     "execution_count": 2,
     "metadata": {},
     "output_type": "execute_result"
    }
   ],
   "source": [
    "data.head()"
   ]
  },
  {
   "cell_type": "code",
   "execution_count": 3,
   "id": "c0d8bcd7",
   "metadata": {
    "ExecuteTime": {
     "end_time": "2022-07-18T05:08:03.535593Z",
     "start_time": "2022-07-18T05:08:03.509086Z"
    }
   },
   "outputs": [
    {
     "data": {
      "text/html": [
       "<div>\n",
       "<style scoped>\n",
       "    .dataframe tbody tr th:only-of-type {\n",
       "        vertical-align: middle;\n",
       "    }\n",
       "\n",
       "    .dataframe tbody tr th {\n",
       "        vertical-align: top;\n",
       "    }\n",
       "\n",
       "    .dataframe thead th {\n",
       "        text-align: right;\n",
       "    }\n",
       "</style>\n",
       "<table border=\"1\" class=\"dataframe\">\n",
       "  <thead>\n",
       "    <tr style=\"text-align: right;\">\n",
       "      <th></th>\n",
       "      <th>weight</th>\n",
       "      <th>food</th>\n",
       "    </tr>\n",
       "  </thead>\n",
       "  <tbody>\n",
       "    <tr>\n",
       "      <th>count</th>\n",
       "      <td>100.000000</td>\n",
       "      <td>100.000000</td>\n",
       "    </tr>\n",
       "    <tr>\n",
       "      <th>mean</th>\n",
       "      <td>2695.740000</td>\n",
       "      <td>212.960000</td>\n",
       "    </tr>\n",
       "    <tr>\n",
       "      <th>std</th>\n",
       "      <td>178.103399</td>\n",
       "      <td>18.758389</td>\n",
       "    </tr>\n",
       "    <tr>\n",
       "      <th>min</th>\n",
       "      <td>2403.000000</td>\n",
       "      <td>178.000000</td>\n",
       "    </tr>\n",
       "    <tr>\n",
       "      <th>25%</th>\n",
       "      <td>2551.250000</td>\n",
       "      <td>197.000000</td>\n",
       "    </tr>\n",
       "    <tr>\n",
       "      <th>50%</th>\n",
       "      <td>2694.000000</td>\n",
       "      <td>214.000000</td>\n",
       "    </tr>\n",
       "    <tr>\n",
       "      <th>75%</th>\n",
       "      <td>2833.500000</td>\n",
       "      <td>228.000000</td>\n",
       "    </tr>\n",
       "    <tr>\n",
       "      <th>max</th>\n",
       "      <td>2999.000000</td>\n",
       "      <td>249.000000</td>\n",
       "    </tr>\n",
       "  </tbody>\n",
       "</table>\n",
       "</div>"
      ],
      "text/plain": [
       "            weight        food\n",
       "count   100.000000  100.000000\n",
       "mean   2695.740000  212.960000\n",
       "std     178.103399   18.758389\n",
       "min    2403.000000  178.000000\n",
       "25%    2551.250000  197.000000\n",
       "50%    2694.000000  214.000000\n",
       "75%    2833.500000  228.000000\n",
       "max    2999.000000  249.000000"
      ]
     },
     "execution_count": 3,
     "metadata": {},
     "output_type": "execute_result"
    }
   ],
   "source": [
    "data.describe()"
   ]
  },
  {
   "cell_type": "code",
   "execution_count": 6,
   "id": "b2ce9034",
   "metadata": {
    "ExecuteTime": {
     "end_time": "2022-07-18T05:09:32.478120Z",
     "start_time": "2022-07-18T05:09:32.359339Z"
    }
   },
   "outputs": [
    {
     "data": {
      "image/png": "[encoded data removed]",
      "text/plain": [
       "<Figure size 432x288 with 1 Axes>"
      ]
     },
     "metadata": {
      "needs_background": "light"
     },
     "output_type": "display_data"
    }
   ],
   "source": [
    "import matplotlib.pyplot as plt\n",
    "%matplotlib inline\n",
    "\n",
    "plt.scatter(data['food'],data['weight'])\n",
    "plt.show()"
   ]
  },
  {
   "cell_type": "code",
   "execution_count": 8,
   "id": "68831ef2",
   "metadata": {
    "ExecuteTime": {
     "end_time": "2022-07-18T05:10:45.255173Z",
     "start_time": "2022-07-18T05:10:45.217336Z"
    }
   },
   "outputs": [
    {
     "data": {
      "text/plain": [
       "array([2, 0, 2, 1, 2, 1, 1, 0, 0, 1, 1, 0, 1, 2, 1, 2, 1, 0, 1, 0, 0, 2,\n",
       "       0, 2, 0, 2, 1, 2, 0, 1, 0, 1, 1, 2, 0, 2, 1, 2, 0, 1, 2, 0, 1, 1,\n",
       "       1, 1, 2, 2, 0, 0, 1, 1, 2, 2, 2, 2, 2, 2, 0, 2, 1, 1, 2, 0, 0, 1,\n",
       "       0, 0, 0, 1, 1, 2, 2, 1, 0, 2, 1, 0, 2, 1, 1, 0, 1, 1, 1, 1, 2, 2,\n",
       "       2, 2, 2, 1, 0, 2, 2, 2, 1, 1, 1, 0], dtype=int32)"
      ]
     },
     "execution_count": 8,
     "metadata": {},
     "output_type": "execute_result"
    }
   ],
   "source": [
    "from sklearn.cluster import KMeans\n",
    "\n",
    "model_kmeans = KMeans(n_clusters=3)\n",
    "\n",
    "model_kmeans.fit(data.iloc[:, 1:3])\n",
    "model_kmeans.labels_"
   ]
  },
  {
   "cell_type": "code",
   "execution_count": 10,
   "id": "ec4ce8b0",
   "metadata": {
    "ExecuteTime": {
     "end_time": "2022-07-18T05:11:20.938819Z",
     "start_time": "2022-07-18T05:11:20.933327Z"
    }
   },
   "outputs": [
    {
     "data": {
      "text/plain": [
       "(array([0, 1, 2], dtype=int32), array([27, 38, 35]))"
      ]
     },
     "execution_count": 10,
     "metadata": {},
     "output_type": "execute_result"
    }
   ],
   "source": [
    "np.unique(model_kmeans.labels_, return_counts=True)\n"
   ]
  },
  {
   "cell_type": "code",
   "execution_count": 13,
   "id": "16183697",
   "metadata": {
    "ExecuteTime": {
     "end_time": "2022-07-18T05:12:05.735653Z",
     "start_time": "2022-07-18T05:12:05.624912Z"
    }
   },
   "outputs": [
    {
     "data": {
      "image/png": "[encoded data removed]",
      "text/plain": [
       "<Figure size 432x288 with 1 Axes>"
      ]
     },
     "metadata": {
      "needs_background": "light"
     },
     "output_type": "display_data"
    }
   ],
   "source": [
    "## 군집형성된것 시각화\n",
    "\n",
    "import matplotlib.pyplot as plt\n",
    "%matplotlib inline\n",
    "\n",
    "plt.scatter(data['food'],data['weight'], c=model_kmeans.labels_)\n",
    "\n",
    "plt.show()"
   ]
  },
  {
   "cell_type": "code",
   "execution_count": null,
   "id": "817e9a38",
   "metadata": {},
   "outputs": [],
   "source": []
  }
 ],
 "metadata": {
  "hide_input": false,
  "kernelspec": {
   "display_name": "Python 3",
   "language": "python",
   "name": "python3"
  },
  "language_info": {
   "codemirror_mode": {
    "name": "ipython",
    "version": 3
   },
   "file_extension": ".py",
   "mimetype": "text/x-python",
   "name": "python",
   "nbconvert_exporter": "python",
   "pygments_lexer": "ipython3",
   "version": "3.8.8"
  },
  "toc": {
   "base_numbering": 1,
   "nav_menu": {},
   "number_sections": true,
   "sideBar": true,
   "skip_h1_title": false,
   "title_cell": "Table of Contents",
   "title_sidebar": "Contents",
   "toc_cell": false,
   "toc_position": {},
   "toc_section_display": true,
   "toc_window_display": false
  },
  "varInspector": {
   "cols": {
    "lenName": 16,
    "lenType": 16,
    "lenVar": 40
   },
   "kernels_config": {
    "python": {
     "delete_cmd_postfix": "",
     "delete_cmd_prefix": "del ",
     "library": "var_list.py",
     "varRefreshCmd": "print(var_dic_list())"
    },
    "r": {
     "delete_cmd_postfix": ") ",
     "delete_cmd_prefix": "rm(",
     "library": "var_list.r",
     "varRefreshCmd": "cat(var_dic_list()) "
    }
   },
   "types_to_exclude": [
    "module",
    "function",
    "builtin_function_or_method",
    "instance",
    "_Feature"
   ],
   "window_display": false
  }
 },
 "nbformat": 4,
 "nbformat_minor": 5
}
