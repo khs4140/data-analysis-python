{
 "cells": [
  {
   "cell_type": "code",
   "execution_count": 2,
   "id": "0adb09a1",
   "metadata": {
    "ExecuteTime": {
     "end_time": "2022-07-13T16:34:41.052778Z",
     "start_time": "2022-07-13T16:34:40.858323Z"
    }
   },
   "outputs": [
    {
     "name": "stdout",
     "output_type": "stream",
     "text": [
      "  hatchery  chick\n",
      "0        A     30\n",
      "1        B     30\n",
      "2        C     29\n",
      "3        D     26\n",
      "4        E     24\n",
      "<class 'pandas.core.frame.DataFrame'>\n",
      "RangeIndex: 7 entries, 0 to 6\n",
      "Data columns (total 2 columns):\n",
      " #   Column    Non-Null Count  Dtype \n",
      "---  ------    --------------  ----- \n",
      " 0   hatchery  7 non-null      object\n",
      " 1   chick     7 non-null      int64 \n",
      "dtypes: int64(1), object(1)\n",
      "memory usage: 240.0+ bytes\n",
      "None\n"
     ]
    }
   ],
   "source": [
    "import pandas as pd\n",
    "\n",
    "data = pd.read_csv('./dataset/ch4-1.csv')\n",
    "\n",
    "print(data.head())\n",
    "print(data.info())"
   ]
  },
  {
   "cell_type": "markdown",
   "id": "2a708ed5",
   "metadata": {},
   "source": [
    "# data 기초통계량"
   ]
  },
  {
   "cell_type": "code",
   "execution_count": 3,
   "id": "f5a7dd47",
   "metadata": {
    "ExecuteTime": {
     "end_time": "2022-07-13T16:34:41.462296Z",
     "start_time": "2022-07-13T16:34:41.442947Z"
    }
   },
   "outputs": [
    {
     "data": {
      "text/html": [
       "<div>\n",
       "<style scoped>\n",
       "    .dataframe tbody tr th:only-of-type {\n",
       "        vertical-align: middle;\n",
       "    }\n",
       "\n",
       "    .dataframe tbody tr th {\n",
       "        vertical-align: top;\n",
       "    }\n",
       "\n",
       "    .dataframe thead th {\n",
       "        text-align: right;\n",
       "    }\n",
       "</style>\n",
       "<table border=\"1\" class=\"dataframe\">\n",
       "  <thead>\n",
       "    <tr style=\"text-align: right;\">\n",
       "      <th></th>\n",
       "      <th>chick</th>\n",
       "    </tr>\n",
       "  </thead>\n",
       "  <tbody>\n",
       "    <tr>\n",
       "      <th>count</th>\n",
       "      <td>7.000000</td>\n",
       "    </tr>\n",
       "    <tr>\n",
       "      <th>mean</th>\n",
       "      <td>27.714286</td>\n",
       "    </tr>\n",
       "    <tr>\n",
       "      <th>std</th>\n",
       "      <td>2.214670</td>\n",
       "    </tr>\n",
       "    <tr>\n",
       "      <th>min</th>\n",
       "      <td>24.000000</td>\n",
       "    </tr>\n",
       "    <tr>\n",
       "      <th>25%</th>\n",
       "      <td>26.500000</td>\n",
       "    </tr>\n",
       "    <tr>\n",
       "      <th>50%</th>\n",
       "      <td>28.000000</td>\n",
       "    </tr>\n",
       "    <tr>\n",
       "      <th>75%</th>\n",
       "      <td>29.500000</td>\n",
       "    </tr>\n",
       "    <tr>\n",
       "      <th>max</th>\n",
       "      <td>30.000000</td>\n",
       "    </tr>\n",
       "  </tbody>\n",
       "</table>\n",
       "</div>"
      ],
      "text/plain": [
       "           chick\n",
       "count   7.000000\n",
       "mean   27.714286\n",
       "std     2.214670\n",
       "min    24.000000\n",
       "25%    26.500000\n",
       "50%    28.000000\n",
       "75%    29.500000\n",
       "max    30.000000"
      ]
     },
     "execution_count": 3,
     "metadata": {},
     "output_type": "execute_result"
    }
   ],
   "source": [
    "data.describe()"
   ]
  },
  {
   "cell_type": "code",
   "execution_count": 4,
   "id": "3b8ea24b",
   "metadata": {
    "ExecuteTime": {
     "end_time": "2022-07-13T16:34:41.686881Z",
     "start_time": "2022-07-13T16:34:41.676795Z"
    }
   },
   "outputs": [
    {
     "name": "stdout",
     "output_type": "stream",
     "text": [
      "chick 합 : 194\n",
      "chick 평균 : 27.714285714285715\n",
      "chick 표준편차 : 2.2146697055682827\n",
      "chick 최대값 : 30\n",
      "chick 중간값 : 28.0\n",
      "chick 최소값 : 24\n"
     ]
    }
   ],
   "source": [
    "## chick의 합\n",
    "\n",
    "print(f\"chick 합 : {data['chick'].sum()}\")\n",
    "\n",
    "## chick의 평균\n",
    "\n",
    "print(f\"chick 평균 : {data['chick'].mean()}\")\n",
    "\n",
    "## chick의 표준편차\n",
    "\n",
    "print(f\"chick 표준편차 : {data['chick'].std()}\")\n",
    "\n",
    "## chick의 최대값\n",
    "\n",
    "print(f\"chick 최대값 : {data['chick'].max()}\")\n",
    "\n",
    "## chick의 중간값\n",
    "\n",
    "print(f\"chick 중간값 : {data['chick'].median()}\")\n",
    "\n",
    "## chick의 최소값\n",
    "\n",
    "print(f\"chick 최소값 : {data['chick'].min()}\")\n"
   ]
  },
  {
   "cell_type": "markdown",
   "id": "3a2419d3",
   "metadata": {},
   "source": [
    "# 파생변수"
   ]
  },
  {
   "cell_type": "code",
   "execution_count": 5,
   "id": "fd9595d0",
   "metadata": {
    "ExecuteTime": {
     "end_time": "2022-07-13T16:34:42.187605Z",
     "start_time": "2022-07-13T16:34:42.183740Z"
    }
   },
   "outputs": [
    {
     "name": "stdout",
     "output_type": "stream",
     "text": [
      "chick 부화율 (%) : 0.92%\n"
     ]
    }
   ],
   "source": [
    "## 부화율 (실제 부화량 / 기존 210개 예상 )\n",
    "\n",
    "print(f\"chick 부화율 (%) : {(data.chick.sum() / 210).round(2)}%\")\n",
    "\n"
   ]
  },
  {
   "cell_type": "markdown",
   "id": "ca51d723",
   "metadata": {},
   "source": [
    "# 데이터 정렬"
   ]
  },
  {
   "cell_type": "code",
   "execution_count": 6,
   "id": "8c05289c",
   "metadata": {
    "ExecuteTime": {
     "end_time": "2022-07-13T16:34:42.792331Z",
     "start_time": "2022-07-13T16:34:42.782050Z"
    }
   },
   "outputs": [
    {
     "data": {
      "text/html": [
       "<div>\n",
       "<style scoped>\n",
       "    .dataframe tbody tr th:only-of-type {\n",
       "        vertical-align: middle;\n",
       "    }\n",
       "\n",
       "    .dataframe tbody tr th {\n",
       "        vertical-align: top;\n",
       "    }\n",
       "\n",
       "    .dataframe thead th {\n",
       "        text-align: right;\n",
       "    }\n",
       "</style>\n",
       "<table border=\"1\" class=\"dataframe\">\n",
       "  <thead>\n",
       "    <tr style=\"text-align: right;\">\n",
       "      <th></th>\n",
       "      <th>hatchery</th>\n",
       "      <th>chick</th>\n",
       "    </tr>\n",
       "  </thead>\n",
       "  <tbody>\n",
       "    <tr>\n",
       "      <th>4</th>\n",
       "      <td>E</td>\n",
       "      <td>24</td>\n",
       "    </tr>\n",
       "    <tr>\n",
       "      <th>3</th>\n",
       "      <td>D</td>\n",
       "      <td>26</td>\n",
       "    </tr>\n",
       "    <tr>\n",
       "      <th>6</th>\n",
       "      <td>G</td>\n",
       "      <td>27</td>\n",
       "    </tr>\n",
       "    <tr>\n",
       "      <th>5</th>\n",
       "      <td>F</td>\n",
       "      <td>28</td>\n",
       "    </tr>\n",
       "    <tr>\n",
       "      <th>2</th>\n",
       "      <td>C</td>\n",
       "      <td>29</td>\n",
       "    </tr>\n",
       "    <tr>\n",
       "      <th>0</th>\n",
       "      <td>A</td>\n",
       "      <td>30</td>\n",
       "    </tr>\n",
       "    <tr>\n",
       "      <th>1</th>\n",
       "      <td>B</td>\n",
       "      <td>30</td>\n",
       "    </tr>\n",
       "  </tbody>\n",
       "</table>\n",
       "</div>"
      ],
      "text/plain": [
       "  hatchery  chick\n",
       "4        E     24\n",
       "3        D     26\n",
       "6        G     27\n",
       "5        F     28\n",
       "2        C     29\n",
       "0        A     30\n",
       "1        B     30"
      ]
     },
     "execution_count": 6,
     "metadata": {},
     "output_type": "execute_result"
    }
   ],
   "source": [
    "data.sort_values(by = 'chick', ascending=True)"
   ]
  },
  {
   "cell_type": "markdown",
   "id": "1bdfe54b",
   "metadata": {},
   "source": [
    "# 그래프"
   ]
  },
  {
   "cell_type": "markdown",
   "id": "84d749f4",
   "metadata": {},
   "source": [
    "## bar 차트"
   ]
  },
  {
   "cell_type": "code",
   "execution_count": 7,
   "id": "8775d3f7",
   "metadata": {
    "ExecuteTime": {
     "end_time": "2022-07-13T16:34:43.894105Z",
     "start_time": "2022-07-13T16:34:43.681021Z"
    }
   },
   "outputs": [
    {
     "data": {
      "image/png": "[encoded data removed]",
      "text/plain": [
       "<Figure size 432x288 with 1 Axes>"
      ]
     },
     "metadata": {
      "needs_background": "light"
     },
     "output_type": "display_data"
    }
   ],
   "source": [
    "import matplotlib.pyplot as plt\n",
    "%matplotlib inline\n",
    "\n",
    "\n",
    "plt.bar(data['hatchery'], data['chick']) # 가로 / 세로\n",
    "plt.show()"
   ]
  },
  {
   "cell_type": "code",
   "execution_count": 22,
   "id": "dbf9f9f5",
   "metadata": {
    "ExecuteTime": {
     "end_time": "2022-07-13T16:40:24.672615Z",
     "start_time": "2022-07-13T16:40:24.667779Z"
    }
   },
   "outputs": [
    {
     "name": "stdout",
     "output_type": "stream",
     "text": [
      "['.Aqua Kana', '.Arabic UI Display', '.Arabic UI Text']\n"
     ]
    }
   ],
   "source": [
    "import matplotlib.font_manager as fm\n",
    "\n",
    "fm_list = [font.name for font in fm.fontManager.ttflist]\n",
    "fm_list.sort()\n",
    "print(fm_list[:3])\n",
    "\n",
    "plt_fonts = 'AppleGothic'"
   ]
  },
  {
   "cell_type": "code",
   "execution_count": 23,
   "id": "fc6b481f",
   "metadata": {
    "ExecuteTime": {
     "end_time": "2022-07-13T16:40:25.231411Z",
     "start_time": "2022-07-13T16:40:25.103115Z"
    }
   },
   "outputs": [
    {
     "data": {
      "image/png": "[encoded data removed]",
      "text/plain": [
       "<Figure size 720x576 with 1 Axes>"
      ]
     },
     "metadata": {
      "needs_background": "light"
     },
     "output_type": "display_data"
    }
   ],
   "source": [
    "plt.rcParams['font.family'] = 'AppleGothic'\n",
    "\n",
    "plt.figure(figsize=(10, 8))\n",
    "plt.bar(data['hatchery'], data['chick'], color = ('red', 'orange', 'yellow', 'blue', 'navy', 'purple'))\n",
    "plt.title('부화장별 부화 수')\n",
    "plt.xlabel('부화장')\n",
    "plt.ylabel('부화수')\n",
    "plt.show()"
   ]
  },
  {
   "cell_type": "markdown",
   "id": "3c91a1c8",
   "metadata": {},
   "source": [
    "## seaborn 색상 사용"
   ]
  },
  {
   "cell_type": "code",
   "execution_count": 25,
   "id": "adfde14f",
   "metadata": {
    "ExecuteTime": {
     "end_time": "2022-07-13T16:42:29.952139Z",
     "start_time": "2022-07-13T16:42:29.844424Z"
    }
   },
   "outputs": [
    {
     "data": {
      "image/png": "[encoded data removed]",
      "text/plain": [
       "<Figure size 720x576 with 1 Axes>"
      ]
     },
     "metadata": {
      "needs_background": "light"
     },
     "output_type": "display_data"
    }
   ],
   "source": [
    "import seaborn as sns\n",
    "colors = sns.color_palette('Pastel2', 7)\n",
    "\n",
    "plt.figure(figsize=(10, 8))\n",
    "plt.bar(data['hatchery'], data['chick'], color = colors, edgecolor='black')\n",
    "plt.title('부화장별 부화 수')\n",
    "plt.xlabel('부화장')\n",
    "plt.ylabel('부화수')\n",
    "plt.show()"
   ]
  },
  {
   "cell_type": "markdown",
   "id": "7ae52380",
   "metadata": {},
   "source": [
    "## 텍스트 표시\n",
    "\n",
    "    - plt.text(x, y, 표시할 텍스트)\n",
    "    "
   ]
  },
  {
   "cell_type": "code",
   "execution_count": 32,
   "id": "ad34dd66",
   "metadata": {
    "ExecuteTime": {
     "end_time": "2022-07-13T16:50:11.422015Z",
     "start_time": "2022-07-13T16:50:11.306692Z"
    }
   },
   "outputs": [
    {
     "data": {
      "image/png": "[encoded data removed]",
      "text/plain": [
       "<Figure size 720x576 with 1 Axes>"
      ]
     },
     "metadata": {
      "needs_background": "light"
     },
     "output_type": "display_data"
    }
   ],
   "source": [
    "def addText(x, y):\n",
    "    for i in range(len(x)):\n",
    "        plt.text(i, y[i] + 0.5, y[i], ha = 'center')\n",
    "\n",
    "colors = sns.color_palette('Pastel2', 7)\n",
    "\n",
    "plt.figure(figsize=(10, 8))\n",
    "plt.bar(data['hatchery'], data['chick'], color = colors, edgecolor='black')\n",
    "addText(data['hatchery'], data['chick'])\n",
    "plt.title('부화장별 부화 수', fontsize = 18)\n",
    "plt.xlabel('부화장')\n",
    "plt.ylabel('부화수')\n",
    "plt.show()"
   ]
  },
  {
   "cell_type": "markdown",
   "id": "6e857d72",
   "metadata": {},
   "source": [
    "## 가로 선 추가하기\n",
    "    - plt.hlines(y좌표, x좌표 최소, x좌표 최대)"
   ]
  },
  {
   "cell_type": "code",
   "execution_count": 37,
   "id": "b08a3e0e",
   "metadata": {
    "ExecuteTime": {
     "end_time": "2022-07-13T16:52:01.350576Z",
     "start_time": "2022-07-13T16:52:01.233029Z"
    }
   },
   "outputs": [
    {
     "data": {
      "image/png": "[encoded data removed]",
      "text/plain": [
       "<Figure size 720x576 with 1 Axes>"
      ]
     },
     "metadata": {
      "needs_background": "light"
     },
     "output_type": "display_data"
    }
   ],
   "source": [
    "def addText(x, y):\n",
    "    for i in range(len(x)):\n",
    "        plt.text(i, y[i] + 0.5, y[i], ha = 'center')\n",
    "\n",
    "colors = sns.color_palette('Pastel2', 7)\n",
    "\n",
    "plt.figure(figsize=(10, 8))\n",
    "plt.bar(data['hatchery'], data['chick'], color = colors, edgecolor='black')\n",
    "addText(data['hatchery'], data['chick'])\n",
    "\n",
    "plt.hlines(int(data['chick'].mean()), -1, 7, colors='red', linestyles='dashed') # 평균 가로선 \n",
    "plt.title('부화장별 부화 수', fontsize = 18)\n",
    "plt.xlabel('부화장')\n",
    "plt.ylabel('부화수')\n",
    "plt.show()"
   ]
  },
  {
   "cell_type": "markdown",
   "id": "4f215e5d",
   "metadata": {},
   "source": [
    "## pie 차트"
   ]
  },
  {
   "cell_type": "code",
   "execution_count": 41,
   "id": "aa0da8d0",
   "metadata": {
    "ExecuteTime": {
     "end_time": "2022-07-13T16:54:01.103775Z",
     "start_time": "2022-07-13T16:54:01.096885Z"
    }
   },
   "outputs": [
    {
     "data": {
      "text/plain": [
       "0    0.154639\n",
       "1    0.154639\n",
       "2    0.149485\n",
       "3    0.134021\n",
       "4    0.123711\n",
       "5    0.144330\n",
       "6    0.139175\n",
       "Name: chick, dtype: float64"
      ]
     },
     "execution_count": 41,
     "metadata": {},
     "output_type": "execute_result"
    }
   ],
   "source": [
    "## 부화장별 비중\n",
    "\n",
    "pct = data['chick'] / data['chick'].sum()\n",
    "pct"
   ]
  },
  {
   "cell_type": "code",
   "execution_count": 51,
   "id": "b45c51d3",
   "metadata": {
    "ExecuteTime": {
     "end_time": "2022-07-13T16:58:03.556482Z",
     "start_time": "2022-07-13T16:58:03.457106Z"
    }
   },
   "outputs": [
    {
     "data": {
      "image/png": "[encoded data removed]",
      "text/plain": [
       "<Figure size 720x576 with 1 Axes>"
      ]
     },
     "metadata": {},
     "output_type": "display_data"
    }
   ],
   "source": [
    "colors = sns.color_palette('Pastel2', 7)\n",
    "plt.figure(figsize=(10, 8))\n",
    "plt.pie(pct, labels=data['hatchery'], autopct= '%.1f%%',\n",
    "       colors= colors, startangle=90, counterclock=False)\n",
    "\n",
    "plt.show()\n"
   ]
  },
  {
   "cell_type": "markdown",
   "id": "c810cc2d",
   "metadata": {},
   "source": [
    "# 정규분포와 중심극한정리"
   ]
  },
  {
   "cell_type": "code",
   "execution_count": 53,
   "id": "7a7b316c",
   "metadata": {
    "ExecuteTime": {
     "end_time": "2022-07-13T17:00:11.025750Z",
     "start_time": "2022-07-13T17:00:11.000256Z"
    }
   },
   "outputs": [
    {
     "data": {
      "text/html": [
       "<div>\n",
       "<style scoped>\n",
       "    .dataframe tbody tr th:only-of-type {\n",
       "        vertical-align: middle;\n",
       "    }\n",
       "\n",
       "    .dataframe tbody tr th {\n",
       "        vertical-align: top;\n",
       "    }\n",
       "\n",
       "    .dataframe thead th {\n",
       "        text-align: right;\n",
       "    }\n",
       "</style>\n",
       "<table border=\"1\" class=\"dataframe\">\n",
       "  <thead>\n",
       "    <tr style=\"text-align: right;\">\n",
       "      <th></th>\n",
       "      <th>chick_nm</th>\n",
       "      <th>weight</th>\n",
       "    </tr>\n",
       "  </thead>\n",
       "  <tbody>\n",
       "    <tr>\n",
       "      <th>0</th>\n",
       "      <td>b01</td>\n",
       "      <td>37</td>\n",
       "    </tr>\n",
       "    <tr>\n",
       "      <th>1</th>\n",
       "      <td>b02</td>\n",
       "      <td>39</td>\n",
       "    </tr>\n",
       "    <tr>\n",
       "      <th>2</th>\n",
       "      <td>b03</td>\n",
       "      <td>41</td>\n",
       "    </tr>\n",
       "    <tr>\n",
       "      <th>3</th>\n",
       "      <td>b04</td>\n",
       "      <td>45</td>\n",
       "    </tr>\n",
       "    <tr>\n",
       "      <th>4</th>\n",
       "      <td>b05</td>\n",
       "      <td>37</td>\n",
       "    </tr>\n",
       "  </tbody>\n",
       "</table>\n",
       "</div>"
      ],
      "text/plain": [
       "  chick_nm  weight\n",
       "0      b01      37\n",
       "1      b02      39\n",
       "2      b03      41\n",
       "3      b04      45\n",
       "4      b05      37"
      ]
     },
     "metadata": {},
     "output_type": "display_data"
    },
    {
     "name": "stdout",
     "output_type": "stream",
     "text": [
      "<class 'pandas.core.frame.DataFrame'>\n",
      "RangeIndex: 30 entries, 0 to 29\n",
      "Data columns (total 2 columns):\n",
      " #   Column    Non-Null Count  Dtype \n",
      "---  ------    --------------  ----- \n",
      " 0   chick_nm  30 non-null     object\n",
      " 1   weight    30 non-null     int64 \n",
      "dtypes: int64(1), object(1)\n",
      "memory usage: 608.0+ bytes\n"
     ]
    }
   ],
   "source": [
    "import pandas as pd\n",
    "\n",
    "data2 = pd.read_csv('./dataset/ch4-2.csv')\n",
    "\n",
    "display(data2.head())\n",
    "data2.info()\n"
   ]
  },
  {
   "cell_type": "code",
   "execution_count": 54,
   "id": "d2fff8a0",
   "metadata": {
    "ExecuteTime": {
     "end_time": "2022-07-13T17:00:36.399783Z",
     "start_time": "2022-07-13T17:00:36.386481Z"
    }
   },
   "outputs": [
    {
     "data": {
      "text/html": [
       "<div>\n",
       "<style scoped>\n",
       "    .dataframe tbody tr th:only-of-type {\n",
       "        vertical-align: middle;\n",
       "    }\n",
       "\n",
       "    .dataframe tbody tr th {\n",
       "        vertical-align: top;\n",
       "    }\n",
       "\n",
       "    .dataframe thead th {\n",
       "        text-align: right;\n",
       "    }\n",
       "</style>\n",
       "<table border=\"1\" class=\"dataframe\">\n",
       "  <thead>\n",
       "    <tr style=\"text-align: right;\">\n",
       "      <th></th>\n",
       "      <th>weight</th>\n",
       "    </tr>\n",
       "  </thead>\n",
       "  <tbody>\n",
       "    <tr>\n",
       "      <th>count</th>\n",
       "      <td>30.000000</td>\n",
       "    </tr>\n",
       "    <tr>\n",
       "      <th>mean</th>\n",
       "      <td>38.400000</td>\n",
       "    </tr>\n",
       "    <tr>\n",
       "      <th>std</th>\n",
       "      <td>3.286335</td>\n",
       "    </tr>\n",
       "    <tr>\n",
       "      <th>min</th>\n",
       "      <td>31.000000</td>\n",
       "    </tr>\n",
       "    <tr>\n",
       "      <th>25%</th>\n",
       "      <td>36.250000</td>\n",
       "    </tr>\n",
       "    <tr>\n",
       "      <th>50%</th>\n",
       "      <td>39.000000</td>\n",
       "    </tr>\n",
       "    <tr>\n",
       "      <th>75%</th>\n",
       "      <td>40.750000</td>\n",
       "    </tr>\n",
       "    <tr>\n",
       "      <th>max</th>\n",
       "      <td>45.000000</td>\n",
       "    </tr>\n",
       "  </tbody>\n",
       "</table>\n",
       "</div>"
      ],
      "text/plain": [
       "          weight\n",
       "count  30.000000\n",
       "mean   38.400000\n",
       "std     3.286335\n",
       "min    31.000000\n",
       "25%    36.250000\n",
       "50%    39.000000\n",
       "75%    40.750000\n",
       "max    45.000000"
      ]
     },
     "execution_count": 54,
     "metadata": {},
     "output_type": "execute_result"
    }
   ],
   "source": [
    "data2.describe()"
   ]
  },
  {
   "cell_type": "markdown",
   "id": "1d6c79fb",
   "metadata": {},
   "source": [
    "## 히스토그램으로 분포 모양 확인"
   ]
  },
  {
   "cell_type": "code",
   "execution_count": 57,
   "id": "9003d323",
   "metadata": {
    "ExecuteTime": {
     "end_time": "2022-07-13T17:05:12.645925Z",
     "start_time": "2022-07-13T17:05:12.522482Z"
    }
   },
   "outputs": [
    {
     "data": {
      "image/png": "[encoded data removed]",
      "text/plain": [
       "<Figure size 720x576 with 1 Axes>"
      ]
     },
     "metadata": {
      "needs_background": "light"
     },
     "output_type": "display_data"
    }
   ],
   "source": [
    "import matplotlib.pyplot as plt\n",
    "%matplotlib inline\n",
    "\n",
    "plt.rcParams['font.family'] = 'AppleGothic'\n",
    "plt.figure(figsize=(10, 8))\n",
    "\n",
    "plt.hist(data2['weight'], bins=7)\n",
    "plt.title('B 부화장 병아리 무게 분포 현황', fontsize=18)\n",
    "plt.xlabel('병아리 무게(g)')\n",
    "plt.ylabel('마릿수')\n",
    "plt.show()\n",
    "\n"
   ]
  },
  {
   "cell_type": "markdown",
   "id": "4181a761",
   "metadata": {},
   "source": [
    "## boxplot으로 데이터 분포 확인"
   ]
  },
  {
   "cell_type": "code",
   "execution_count": 59,
   "id": "d5040d41",
   "metadata": {
    "ExecuteTime": {
     "end_time": "2022-07-13T17:06:26.484186Z",
     "start_time": "2022-07-13T17:06:26.386826Z"
    }
   },
   "outputs": [
    {
     "data": {
      "image/png": "[encoded data removed]",
      "text/plain": [
       "<Figure size 720x576 with 1 Axes>"
      ]
     },
     "metadata": {
      "needs_background": "light"
     },
     "output_type": "display_data"
    }
   ],
   "source": [
    "plt.figure(figsize = (10, 8))\n",
    "plt.boxplot(data2.weight)\n",
    "plt.title('B 부화장 병아리 무게 분포 현황')\n",
    "plt.ylabel('병아리 무게(g)')\n",
    "plt.show()"
   ]
  },
  {
   "cell_type": "markdown",
   "id": "e18fda31",
   "metadata": {},
   "source": [
    "# 가설검정 (사료 제조사별 병아리 무게 차이?)"
   ]
  },
  {
   "cell_type": "code",
   "execution_count": 61,
   "id": "c725b53e",
   "metadata": {
    "ExecuteTime": {
     "end_time": "2022-07-13T17:08:27.998450Z",
     "start_time": "2022-07-13T17:08:27.982223Z"
    }
   },
   "outputs": [
    {
     "data": {
      "text/html": [
       "<div>\n",
       "<style scoped>\n",
       "    .dataframe tbody tr th:only-of-type {\n",
       "        vertical-align: middle;\n",
       "    }\n",
       "\n",
       "    .dataframe tbody tr th {\n",
       "        vertical-align: top;\n",
       "    }\n",
       "\n",
       "    .dataframe thead th {\n",
       "        text-align: right;\n",
       "    }\n",
       "</style>\n",
       "<table border=\"1\" class=\"dataframe\">\n",
       "  <thead>\n",
       "    <tr style=\"text-align: right;\">\n",
       "      <th></th>\n",
       "      <th>hatchery</th>\n",
       "      <th>chick_nm</th>\n",
       "      <th>weight</th>\n",
       "    </tr>\n",
       "  </thead>\n",
       "  <tbody>\n",
       "    <tr>\n",
       "      <th>0</th>\n",
       "      <td>A</td>\n",
       "      <td>a01</td>\n",
       "      <td>112</td>\n",
       "    </tr>\n",
       "    <tr>\n",
       "      <th>1</th>\n",
       "      <td>A</td>\n",
       "      <td>a05</td>\n",
       "      <td>116</td>\n",
       "    </tr>\n",
       "    <tr>\n",
       "      <th>2</th>\n",
       "      <td>A</td>\n",
       "      <td>a09</td>\n",
       "      <td>106</td>\n",
       "    </tr>\n",
       "    <tr>\n",
       "      <th>3</th>\n",
       "      <td>A</td>\n",
       "      <td>a12</td>\n",
       "      <td>104</td>\n",
       "    </tr>\n",
       "    <tr>\n",
       "      <th>4</th>\n",
       "      <td>A</td>\n",
       "      <td>a15</td>\n",
       "      <td>116</td>\n",
       "    </tr>\n",
       "  </tbody>\n",
       "</table>\n",
       "</div>"
      ],
      "text/plain": [
       "  hatchery chick_nm  weight\n",
       "0        A      a01     112\n",
       "1        A      a05     116\n",
       "2        A      a09     106\n",
       "3        A      a12     104\n",
       "4        A      a15     116"
      ]
     },
     "execution_count": 61,
     "metadata": {},
     "output_type": "execute_result"
    }
   ],
   "source": [
    "import pandas as pd\n",
    "\n",
    "data3= pd.read_csv('./dataset/ch4-3.csv')\n",
    "data3.head()\n",
    "\n",
    "## 부화장 A와 B 각각에서 태어난 30마리 병아리 중 10마리씩 sampling"
   ]
  },
  {
   "cell_type": "code",
   "execution_count": 62,
   "id": "026d9f57",
   "metadata": {
    "ExecuteTime": {
     "end_time": "2022-07-13T17:09:23.442912Z",
     "start_time": "2022-07-13T17:09:23.340878Z"
    }
   },
   "outputs": [
    {
     "data": {
      "image/png": "[encoded data removed]",
      "text/plain": [
       "<Figure size 720x576 with 1 Axes>"
      ]
     },
     "metadata": {
      "needs_background": "light"
     },
     "output_type": "display_data"
    }
   ],
   "source": [
    "import seaborn as sns\n",
    "plt.figure(figsize=(10,8))\n",
    "sns.boxplot(x= 'weight', y='hatchery', data=data3,)\n",
    "plt.title('부화장 A vs B weight distribution')\n",
    "plt.show()"
   ]
  },
  {
   "cell_type": "markdown",
   "id": "f2c8826c",
   "metadata": {},
   "source": [
    "## 정규분포 검정"
   ]
  },
  {
   "cell_type": "code",
   "execution_count": 65,
   "id": "997c67f5",
   "metadata": {
    "ExecuteTime": {
     "end_time": "2022-07-13T17:13:56.647749Z",
     "start_time": "2022-07-13T17:13:56.637174Z"
    }
   },
   "outputs": [
    {
     "data": {
      "text/plain": [
       "ShapiroResult(statistic=0.9400018453598022, pvalue=0.5530338883399963)"
      ]
     },
     "metadata": {},
     "output_type": "display_data"
    },
    {
     "data": {
      "text/plain": [
       "ShapiroResult(statistic=0.9390685558319092, pvalue=0.5426967740058899)"
      ]
     },
     "metadata": {},
     "output_type": "display_data"
    }
   ],
   "source": [
    "import scipy as sp\n",
    "\n",
    "test_a = data3.loc[data3.hatchery == 'A', 'weight']\n",
    "test_b = data3.loc[data3.hatchery == 'B', 'weight']\n",
    "\n",
    "# A 부화장 정규분포 검정\n",
    "display(sp.stats.shapiro(test_a))\n",
    "\n",
    "# B 부화장 정규분포 검정\n",
    "display(sp.stats.shapiro(test_b))\n",
    "\n",
    "\n",
    "# shapiro H0 : 정규분포이다. H1 : 정규분포 아니다.\n",
    "# 두개 0.05 보다 크므로 정규분포이다."
   ]
  },
  {
   "cell_type": "code",
   "execution_count": 66,
   "id": "bb3c0a7c",
   "metadata": {
    "ExecuteTime": {
     "end_time": "2022-07-13T17:14:17.243348Z",
     "start_time": "2022-07-13T17:14:17.235228Z"
    }
   },
   "outputs": [
    {
     "data": {
      "text/plain": [
       "Ttest_indResult(statistic=2.842528280230058, pvalue=0.010803990633924202)"
      ]
     },
     "execution_count": 66,
     "metadata": {},
     "output_type": "execute_result"
    }
   ],
   "source": [
    "sp.stats.ttest_ind(test_a, test_b)"
   ]
  },
  {
   "cell_type": "code",
   "execution_count": null,
   "id": "c7e4757d",
   "metadata": {},
   "outputs": [],
   "source": []
  }
 ],
 "metadata": {
  "hide_input": false,
  "kernelspec": {
   "display_name": "Python 3",
   "language": "python",
   "name": "python3"
  },
  "toc": {
   "base_numbering": 1,
   "nav_menu": {},
   "number_sections": true,
   "sideBar": true,
   "skip_h1_title": false,
   "title_cell": "Table of Contents",
   "title_sidebar": "Contents",
   "toc_cell": false,
   "toc_position": {},
   "toc_section_display": true,
   "toc_window_display": false
  },
  "varInspector": {
   "cols": {
    "lenName": 16,
    "lenType": 16,
    "lenVar": 40
   },
   "kernels_config": {
    "python": {
     "delete_cmd_postfix": "",
     "delete_cmd_prefix": "del ",
     "library": "var_list.py",
     "varRefreshCmd": "print(var_dic_list())"
    },
    "r": {
     "delete_cmd_postfix": ") ",
     "delete_cmd_prefix": "rm(",
     "library": "var_list.r",
     "varRefreshCmd": "cat(var_dic_list()) "
    }
   },
   "types_to_exclude": [
    "module",
    "function",
    "builtin_function_or_method",
    "instance",
    "_Feature"
   ],
   "window_display": false
  }
 },
 "nbformat": 4,
 "nbformat_minor": 5
}
