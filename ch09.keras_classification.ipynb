{
 "cells": [
  {
   "cell_type": "code",
   "execution_count": 4,
   "id": "4c5286b7",
   "metadata": {
    "ExecuteTime": {
     "end_time": "2022-07-18T09:54:54.787078Z",
     "start_time": "2022-07-18T09:54:54.783470Z"
    }
   },
   "outputs": [],
   "source": [
    "import tensorflow as tf\n",
    "import pandas as pd\n",
    "\n",
    "from tensorflow import keras\n",
    "from keras.models import Sequential\n",
    "from keras.layers import Dense, Input"
   ]
  },
  {
   "cell_type": "code",
   "execution_count": 5,
   "id": "28e5731f",
   "metadata": {
    "ExecuteTime": {
     "end_time": "2022-07-18T09:54:56.878018Z",
     "start_time": "2022-07-18T09:54:56.863797Z"
    }
   },
   "outputs": [],
   "source": [
    "df_train = pd.read_csv('./dataset/ch6-2_train.csv')\n",
    "df_test = pd.read_csv('./dataset/ch6-2_test.csv')\n",
    "\n",
    "x_train = df_train.iloc[:, 0:3].values\n",
    "y_train = df_train.iloc[:, 3].values\n",
    "\n",
    "x_test = df_test.iloc[:, 0:3].values\n",
    "y_test = df_test.iloc[:, 3].values"
   ]
  },
  {
   "cell_type": "code",
   "execution_count": 7,
   "id": "6011f0cd",
   "metadata": {
    "ExecuteTime": {
     "end_time": "2022-07-18T10:02:26.011104Z",
     "start_time": "2022-07-18T10:02:25.998352Z"
    }
   },
   "outputs": [
    {
     "data": {
      "text/html": [
       "<div>\n",
       "<style scoped>\n",
       "    .dataframe tbody tr th:only-of-type {\n",
       "        vertical-align: middle;\n",
       "    }\n",
       "\n",
       "    .dataframe tbody tr th {\n",
       "        vertical-align: top;\n",
       "    }\n",
       "\n",
       "    .dataframe thead th {\n",
       "        text-align: right;\n",
       "    }\n",
       "</style>\n",
       "<table border=\"1\" class=\"dataframe\">\n",
       "  <thead>\n",
       "    <tr style=\"text-align: right;\">\n",
       "      <th></th>\n",
       "      <th>wing_length</th>\n",
       "      <th>tail_length</th>\n",
       "      <th>comb_height</th>\n",
       "      <th>breeds</th>\n",
       "    </tr>\n",
       "  </thead>\n",
       "  <tbody>\n",
       "    <tr>\n",
       "      <th>0</th>\n",
       "      <td>238</td>\n",
       "      <td>63</td>\n",
       "      <td>34</td>\n",
       "      <td>a</td>\n",
       "    </tr>\n",
       "    <tr>\n",
       "      <th>1</th>\n",
       "      <td>236</td>\n",
       "      <td>67</td>\n",
       "      <td>30</td>\n",
       "      <td>a</td>\n",
       "    </tr>\n",
       "    <tr>\n",
       "      <th>2</th>\n",
       "      <td>256</td>\n",
       "      <td>65</td>\n",
       "      <td>34</td>\n",
       "      <td>a</td>\n",
       "    </tr>\n",
       "    <tr>\n",
       "      <th>3</th>\n",
       "      <td>240</td>\n",
       "      <td>63</td>\n",
       "      <td>35</td>\n",
       "      <td>a</td>\n",
       "    </tr>\n",
       "    <tr>\n",
       "      <th>4</th>\n",
       "      <td>246</td>\n",
       "      <td>65</td>\n",
       "      <td>30</td>\n",
       "      <td>a</td>\n",
       "    </tr>\n",
       "    <tr>\n",
       "      <th>...</th>\n",
       "      <td>...</td>\n",
       "      <td>...</td>\n",
       "      <td>...</td>\n",
       "      <td>...</td>\n",
       "    </tr>\n",
       "    <tr>\n",
       "      <th>235</th>\n",
       "      <td>253</td>\n",
       "      <td>72</td>\n",
       "      <td>34</td>\n",
       "      <td>c</td>\n",
       "    </tr>\n",
       "    <tr>\n",
       "      <th>236</th>\n",
       "      <td>236</td>\n",
       "      <td>74</td>\n",
       "      <td>32</td>\n",
       "      <td>c</td>\n",
       "    </tr>\n",
       "    <tr>\n",
       "      <th>237</th>\n",
       "      <td>230</td>\n",
       "      <td>74</td>\n",
       "      <td>33</td>\n",
       "      <td>c</td>\n",
       "    </tr>\n",
       "    <tr>\n",
       "      <th>238</th>\n",
       "      <td>237</td>\n",
       "      <td>72</td>\n",
       "      <td>32</td>\n",
       "      <td>c</td>\n",
       "    </tr>\n",
       "    <tr>\n",
       "      <th>239</th>\n",
       "      <td>252</td>\n",
       "      <td>70</td>\n",
       "      <td>33</td>\n",
       "      <td>c</td>\n",
       "    </tr>\n",
       "  </tbody>\n",
       "</table>\n",
       "<p>240 rows × 4 columns</p>\n",
       "</div>"
      ],
      "text/plain": [
       "     wing_length  tail_length  comb_height breeds\n",
       "0            238           63           34      a\n",
       "1            236           67           30      a\n",
       "2            256           65           34      a\n",
       "3            240           63           35      a\n",
       "4            246           65           30      a\n",
       "..           ...          ...          ...    ...\n",
       "235          253           72           34      c\n",
       "236          236           74           32      c\n",
       "237          230           74           33      c\n",
       "238          237           72           32      c\n",
       "239          252           70           33      c\n",
       "\n",
       "[240 rows x 4 columns]"
      ]
     },
     "execution_count": 7,
     "metadata": {},
     "output_type": "execute_result"
    }
   ],
   "source": [
    "df_train"
   ]
  },
  {
   "cell_type": "code",
   "execution_count": 9,
   "id": "e30b7c71",
   "metadata": {
    "ExecuteTime": {
     "end_time": "2022-07-18T10:03:10.727942Z",
     "start_time": "2022-07-18T10:03:10.605981Z"
    }
   },
   "outputs": [
    {
     "data": {
      "image/png": "[encoded data removed]",
      "text/plain": [
       "<Figure size 1080x720 with 1 Axes>"
      ]
     },
     "metadata": {
      "needs_background": "light"
     },
     "output_type": "display_data"
    }
   ],
   "source": [
    "import matplotlib.pyplot as plt\n",
    "%matplotlib inline\n",
    "\n",
    "plt.figure(figsize=(15, 10))\n",
    "plt.hist(df_train.wing_length, label='wing_length')\n",
    "plt.hist(df_train.tail_length, label='tail_length')\n",
    "plt.hist(df_train.comb_height, label='comb_height')\n",
    "plt.legend()\n",
    "plt.show()"
   ]
  },
  {
   "cell_type": "markdown",
   "id": "8c512c26",
   "metadata": {},
   "source": [
    "    - 3가지 변수 모두 데이터의 중심이 좌측이나 우측으로 치우치지 않고, 주로 가운데 모여있음\n",
    "    => 이런 경우 Min-Max Scaler (최고값 :0, 최대값 :1)\n",
    "    - 데이터 중심이 한쪽에 치우친 형태라면 Standard 또는 Robust Scaler 사용\n",
    "    => 스케일된 데이터의 중심이 가운데로 향하게 바꿔주는 것이 모델의 성능 향상에 유리함\n",
    "    "
   ]
  },
  {
   "cell_type": "markdown",
   "id": "a0613346",
   "metadata": {},
   "source": [
    "- 전처리 (scaling, onehotencoding)"
   ]
  },
  {
   "cell_type": "code",
   "execution_count": 11,
   "id": "0712530d",
   "metadata": {
    "ExecuteTime": {
     "end_time": "2022-07-18T11:06:04.987447Z",
     "start_time": "2022-07-18T11:06:04.983380Z"
    }
   },
   "outputs": [],
   "source": [
    "from sklearn.preprocessing import MinMaxScaler\n",
    "\n",
    "scaler = MinMaxScaler()\n",
    "train_x_scaled = scaler.fit_transform(x_train)\n",
    "test_x_scaled = scaler.transform(x_test)"
   ]
  },
  {
   "cell_type": "code",
   "execution_count": 12,
   "id": "30019c57",
   "metadata": {
    "ExecuteTime": {
     "end_time": "2022-07-18T11:07:38.775922Z",
     "start_time": "2022-07-18T11:07:38.772832Z"
    }
   },
   "outputs": [
    {
     "name": "stdout",
     "output_type": "stream",
     "text": [
      "Min : 0.0\n",
      "Max : 1.0\n"
     ]
    }
   ],
   "source": [
    "print(f'Min : {train_x_scaled.min()}\\nMax : {train_x_scaled.max()}')"
   ]
  },
  {
   "cell_type": "markdown",
   "id": "fa412cfc",
   "metadata": {},
   "source": [
    "    - 레이블 변환 함수\n",
    "        1. LabelEncoder() : 문자 -> 정수 변환\n",
    "        2. OneHotEncoder() : 정수를 2진수로 변환\n",
    "        3. LabelBinarizer() : 문자를 2진수로 변환"
   ]
  },
  {
   "cell_type": "code",
   "execution_count": 14,
   "id": "7283ae5f",
   "metadata": {
    "ExecuteTime": {
     "end_time": "2022-07-18T11:09:08.309484Z",
     "start_time": "2022-07-18T11:09:08.300032Z"
    }
   },
   "outputs": [
    {
     "data": {
      "text/plain": [
       "array([[1, 0, 0],\n",
       "       [1, 0, 0],\n",
       "       [1, 0, 0],\n",
       "       [1, 0, 0],\n",
       "       [1, 0, 0],\n",
       "       [1, 0, 0],\n",
       "       [1, 0, 0],\n",
       "       [1, 0, 0],\n",
       "       [1, 0, 0],\n",
       "       [1, 0, 0]])"
      ]
     },
     "execution_count": 14,
     "metadata": {},
     "output_type": "execute_result"
    }
   ],
   "source": [
    "y_train[0:5]\n",
    "\n",
    "from sklearn.preprocessing import LabelBinarizer\n",
    "lb = LabelBinarizer().fit(y_train)\n",
    "train_y_one = lb.transform(y_train)\n",
    "test_y_one = lb.transform(y_test)\n",
    "\n",
    "train_y_one[:10]"
   ]
  },
  {
   "cell_type": "code",
   "execution_count": 18,
   "id": "acaddc1e",
   "metadata": {
    "ExecuteTime": {
     "end_time": "2022-07-18T11:12:13.639895Z",
     "start_time": "2022-07-18T11:12:13.224930Z"
    }
   },
   "outputs": [
    {
     "name": "stdout",
     "output_type": "stream",
     "text": [
      "Model: \"sequential_3\"\n",
      "_________________________________________________________________\n",
      " Layer (type)                Output Shape              Param #   \n",
      "=================================================================\n",
      " dense_3 (Dense)             (None, 16)                64        \n",
      "                                                                 \n",
      " dense_4 (Dense)             (None, 32)                544       \n",
      "                                                                 \n",
      " dense_5 (Dense)             (None, 3)                 99        \n",
      "                                                                 \n",
      "=================================================================\n",
      "Total params: 707\n",
      "Trainable params: 707\n",
      "Non-trainable params: 0\n",
      "_________________________________________________________________\n"
     ]
    }
   ],
   "source": [
    "model = Sequential()\n",
    "model.add(Input(3))\n",
    "model.add(Dense(16, activation='relu'))\n",
    "model.add(Dense(32, activation='relu'))\n",
    "model.add(Dense(3, activation='softmax'))\n",
    "\n",
    "model.summary()"
   ]
  },
  {
   "cell_type": "code",
   "execution_count": 19,
   "id": "64fc65cc",
   "metadata": {
    "ExecuteTime": {
     "end_time": "2022-07-18T11:14:25.790321Z",
     "start_time": "2022-07-18T11:13:57.218983Z"
    }
   },
   "outputs": [
    {
     "name": "stdout",
     "output_type": "stream",
     "text": [
      "Epoch 1/300\n"
     ]
    },
    {
     "name": "stderr",
     "output_type": "stream",
     "text": [
      "2022-07-18 20:13:57.309450: W tensorflow/core/platform/profile_utils/cpu_utils.cc:128] Failed to get CPU frequency: 0 Hz\n",
      "2022-07-18 20:13:57.429963: I tensorflow/core/grappler/optimizers/custom_graph_optimizer_registry.cc:113] Plugin optimizer for device_type GPU is enabled.\n"
     ]
    },
    {
     "name": "stdout",
     "output_type": "stream",
     "text": [
      "12/12 [==============================] - 2s 13ms/step - loss: 1.0995 - accuracy: 0.1823 - val_loss: 0.9623 - val_accuracy: 1.0000\n",
      "Epoch 2/300\n",
      "12/12 [==============================] - 0s 7ms/step - loss: 1.0512 - accuracy: 0.4010 - val_loss: 1.0318 - val_accuracy: 0.5833\n",
      "Epoch 3/300\n",
      " 9/12 [=====================>........] - ETA: 0s - loss: 1.0120 - accuracy: 0.7431"
     ]
    },
    {
     "name": "stderr",
     "output_type": "stream",
     "text": [
      "2022-07-18 20:13:59.357447: I tensorflow/core/grappler/optimizers/custom_graph_optimizer_registry.cc:113] Plugin optimizer for device_type GPU is enabled.\n"
     ]
    },
    {
     "name": "stdout",
     "output_type": "stream",
     "text": [
      "12/12 [==============================] - 0s 8ms/step - loss: 1.0074 - accuracy: 0.7552 - val_loss: 1.1055 - val_accuracy: 0.0000e+00\n",
      "Epoch 4/300\n",
      "12/12 [==============================] - 0s 7ms/step - loss: 0.9607 - accuracy: 0.8125 - val_loss: 1.1670 - val_accuracy: 0.0000e+00\n",
      "Epoch 5/300\n",
      "12/12 [==============================] - 0s 8ms/step - loss: 0.9116 - accuracy: 0.8125 - val_loss: 1.2234 - val_accuracy: 0.0000e+00\n",
      "Epoch 6/300\n",
      "12/12 [==============================] - 0s 7ms/step - loss: 0.8583 - accuracy: 0.8125 - val_loss: 1.2707 - val_accuracy: 0.0000e+00\n",
      "Epoch 7/300\n",
      "12/12 [==============================] - 0s 8ms/step - loss: 0.8037 - accuracy: 0.8177 - val_loss: 1.3292 - val_accuracy: 0.0000e+00\n",
      "Epoch 8/300\n",
      "12/12 [==============================] - 0s 8ms/step - loss: 0.7453 - accuracy: 0.8177 - val_loss: 1.3301 - val_accuracy: 0.0000e+00\n",
      "Epoch 9/300\n",
      "12/12 [==============================] - 0s 7ms/step - loss: 0.6908 - accuracy: 0.8125 - val_loss: 1.3522 - val_accuracy: 0.0000e+00\n",
      "Epoch 10/300\n",
      "12/12 [==============================] - 0s 8ms/step - loss: 0.6384 - accuracy: 0.8073 - val_loss: 1.3779 - val_accuracy: 0.0000e+00\n",
      "Epoch 11/300\n",
      "12/12 [==============================] - 0s 8ms/step - loss: 0.5923 - accuracy: 0.8177 - val_loss: 1.3671 - val_accuracy: 0.0000e+00\n",
      "Epoch 12/300\n",
      "12/12 [==============================] - 0s 8ms/step - loss: 0.5505 - accuracy: 0.8125 - val_loss: 1.3420 - val_accuracy: 0.0000e+00\n",
      "Epoch 13/300\n",
      "12/12 [==============================] - 0s 8ms/step - loss: 0.5150 - accuracy: 0.8125 - val_loss: 1.2408 - val_accuracy: 0.0417\n",
      "Epoch 14/300\n",
      "12/12 [==============================] - 0s 8ms/step - loss: 0.4850 - accuracy: 0.8177 - val_loss: 1.2272 - val_accuracy: 0.0833\n",
      "Epoch 15/300\n",
      "12/12 [==============================] - 0s 8ms/step - loss: 0.4592 - accuracy: 0.8281 - val_loss: 1.1422 - val_accuracy: 0.2708\n",
      "Epoch 16/300\n",
      "12/12 [==============================] - 0s 8ms/step - loss: 0.4372 - accuracy: 0.8229 - val_loss: 1.1383 - val_accuracy: 0.3125\n",
      "Epoch 17/300\n",
      "12/12 [==============================] - 0s 8ms/step - loss: 0.4166 - accuracy: 0.8281 - val_loss: 1.0911 - val_accuracy: 0.3750\n",
      "Epoch 18/300\n",
      "12/12 [==============================] - 0s 8ms/step - loss: 0.4000 - accuracy: 0.8490 - val_loss: 1.0519 - val_accuracy: 0.4375\n",
      "Epoch 19/300\n",
      "12/12 [==============================] - 0s 7ms/step - loss: 0.3870 - accuracy: 0.8542 - val_loss: 1.0061 - val_accuracy: 0.3958\n",
      "Epoch 20/300\n",
      "12/12 [==============================] - 0s 7ms/step - loss: 0.3706 - accuracy: 0.8594 - val_loss: 0.9784 - val_accuracy: 0.4583\n",
      "Epoch 21/300\n",
      "12/12 [==============================] - 0s 8ms/step - loss: 0.3586 - accuracy: 0.8802 - val_loss: 0.9103 - val_accuracy: 0.5208\n",
      "Epoch 22/300\n",
      "12/12 [==============================] - 0s 7ms/step - loss: 0.3472 - accuracy: 0.8854 - val_loss: 0.8773 - val_accuracy: 0.5625\n",
      "Epoch 23/300\n",
      "12/12 [==============================] - 0s 8ms/step - loss: 0.3376 - accuracy: 0.8854 - val_loss: 0.8384 - val_accuracy: 0.5833\n",
      "Epoch 24/300\n",
      "12/12 [==============================] - 0s 8ms/step - loss: 0.3282 - accuracy: 0.8854 - val_loss: 0.8339 - val_accuracy: 0.6042\n",
      "Epoch 25/300\n",
      "12/12 [==============================] - 0s 8ms/step - loss: 0.3198 - accuracy: 0.8906 - val_loss: 0.7870 - val_accuracy: 0.6042\n",
      "Epoch 26/300\n",
      "12/12 [==============================] - 0s 8ms/step - loss: 0.3111 - accuracy: 0.8958 - val_loss: 0.7846 - val_accuracy: 0.6042\n",
      "Epoch 27/300\n",
      "12/12 [==============================] - 0s 8ms/step - loss: 0.3034 - accuracy: 0.8906 - val_loss: 0.8094 - val_accuracy: 0.6042\n",
      "Epoch 28/300\n",
      "12/12 [==============================] - 0s 8ms/step - loss: 0.2991 - accuracy: 0.8958 - val_loss: 0.7296 - val_accuracy: 0.6458\n",
      "Epoch 29/300\n",
      "12/12 [==============================] - 0s 8ms/step - loss: 0.2890 - accuracy: 0.9010 - val_loss: 0.7273 - val_accuracy: 0.6458\n",
      "Epoch 30/300\n",
      "12/12 [==============================] - 0s 8ms/step - loss: 0.2834 - accuracy: 0.8958 - val_loss: 0.7089 - val_accuracy: 0.6667\n",
      "Epoch 31/300\n",
      "12/12 [==============================] - 0s 8ms/step - loss: 0.2769 - accuracy: 0.8958 - val_loss: 0.6880 - val_accuracy: 0.6667\n",
      "Epoch 32/300\n",
      "12/12 [==============================] - 0s 7ms/step - loss: 0.2732 - accuracy: 0.9062 - val_loss: 0.6293 - val_accuracy: 0.7083\n",
      "Epoch 33/300\n",
      "12/12 [==============================] - 0s 8ms/step - loss: 0.2660 - accuracy: 0.9115 - val_loss: 0.6681 - val_accuracy: 0.6667\n",
      "Epoch 34/300\n",
      "12/12 [==============================] - 0s 7ms/step - loss: 0.2616 - accuracy: 0.9010 - val_loss: 0.6634 - val_accuracy: 0.6667\n",
      "Epoch 35/300\n",
      "12/12 [==============================] - 0s 7ms/step - loss: 0.2584 - accuracy: 0.9062 - val_loss: 0.6154 - val_accuracy: 0.7083\n",
      "Epoch 36/300\n",
      "12/12 [==============================] - 0s 7ms/step - loss: 0.2522 - accuracy: 0.9010 - val_loss: 0.6251 - val_accuracy: 0.6667\n",
      "Epoch 37/300\n",
      "12/12 [==============================] - 0s 7ms/step - loss: 0.2490 - accuracy: 0.9115 - val_loss: 0.6183 - val_accuracy: 0.7083\n",
      "Epoch 38/300\n",
      "12/12 [==============================] - 0s 7ms/step - loss: 0.2491 - accuracy: 0.9167 - val_loss: 0.5526 - val_accuracy: 0.7083\n",
      "Epoch 39/300\n",
      "12/12 [==============================] - 0s 7ms/step - loss: 0.2403 - accuracy: 0.9219 - val_loss: 0.6144 - val_accuracy: 0.6458\n",
      "Epoch 40/300\n",
      "12/12 [==============================] - 0s 7ms/step - loss: 0.2381 - accuracy: 0.9010 - val_loss: 0.6179 - val_accuracy: 0.6458\n",
      "Epoch 41/300\n",
      "12/12 [==============================] - 0s 7ms/step - loss: 0.2332 - accuracy: 0.9167 - val_loss: 0.5527 - val_accuracy: 0.7083\n",
      "Epoch 42/300\n",
      "12/12 [==============================] - 0s 8ms/step - loss: 0.2332 - accuracy: 0.9271 - val_loss: 0.5088 - val_accuracy: 0.7083\n",
      "Epoch 43/300\n",
      "12/12 [==============================] - 0s 8ms/step - loss: 0.2307 - accuracy: 0.9167 - val_loss: 0.5749 - val_accuracy: 0.6667\n",
      "Epoch 44/300\n",
      "12/12 [==============================] - 0s 7ms/step - loss: 0.2239 - accuracy: 0.9219 - val_loss: 0.5431 - val_accuracy: 0.7083\n",
      "Epoch 45/300\n",
      "12/12 [==============================] - 0s 7ms/step - loss: 0.2216 - accuracy: 0.9219 - val_loss: 0.5090 - val_accuracy: 0.7083\n",
      "Epoch 46/300\n",
      "12/12 [==============================] - 0s 7ms/step - loss: 0.2192 - accuracy: 0.9271 - val_loss: 0.5381 - val_accuracy: 0.6875\n",
      "Epoch 47/300\n",
      "12/12 [==============================] - 0s 7ms/step - loss: 0.2153 - accuracy: 0.9271 - val_loss: 0.5149 - val_accuracy: 0.7083\n",
      "Epoch 48/300\n",
      "12/12 [==============================] - 0s 8ms/step - loss: 0.2133 - accuracy: 0.9219 - val_loss: 0.4707 - val_accuracy: 0.7292\n",
      "Epoch 49/300\n",
      "12/12 [==============================] - 0s 7ms/step - loss: 0.2105 - accuracy: 0.9219 - val_loss: 0.5075 - val_accuracy: 0.7083\n",
      "Epoch 50/300\n",
      "12/12 [==============================] - 0s 7ms/step - loss: 0.2087 - accuracy: 0.9271 - val_loss: 0.4957 - val_accuracy: 0.7083\n",
      "Epoch 51/300\n",
      "12/12 [==============================] - 0s 8ms/step - loss: 0.2053 - accuracy: 0.9219 - val_loss: 0.4725 - val_accuracy: 0.7292\n",
      "Epoch 52/300\n",
      "12/12 [==============================] - 0s 7ms/step - loss: 0.2055 - accuracy: 0.9219 - val_loss: 0.4416 - val_accuracy: 0.7708\n",
      "Epoch 53/300\n",
      "12/12 [==============================] - 0s 7ms/step - loss: 0.2032 - accuracy: 0.9323 - val_loss: 0.4750 - val_accuracy: 0.7292\n",
      "Epoch 54/300\n",
      "12/12 [==============================] - 0s 7ms/step - loss: 0.1982 - accuracy: 0.9219 - val_loss: 0.4752 - val_accuracy: 0.7500\n",
      "Epoch 55/300\n",
      "12/12 [==============================] - 0s 7ms/step - loss: 0.1985 - accuracy: 0.9271 - val_loss: 0.4636 - val_accuracy: 0.7708\n",
      "Epoch 56/300\n",
      "12/12 [==============================] - 0s 7ms/step - loss: 0.1945 - accuracy: 0.9323 - val_loss: 0.4166 - val_accuracy: 0.8333\n",
      "Epoch 57/300\n",
      "12/12 [==============================] - 0s 7ms/step - loss: 0.1940 - accuracy: 0.9271 - val_loss: 0.4110 - val_accuracy: 0.8333\n",
      "Epoch 58/300\n",
      "12/12 [==============================] - 0s 8ms/step - loss: 0.1918 - accuracy: 0.9271 - val_loss: 0.4675 - val_accuracy: 0.7292\n",
      "Epoch 59/300\n",
      "12/12 [==============================] - 0s 8ms/step - loss: 0.1899 - accuracy: 0.9323 - val_loss: 0.4069 - val_accuracy: 0.8333\n",
      "Epoch 60/300\n"
     ]
    },
    {
     "name": "stdout",
     "output_type": "stream",
     "text": [
      "12/12 [==============================] - 0s 7ms/step - loss: 0.1873 - accuracy: 0.9271 - val_loss: 0.4132 - val_accuracy: 0.8333\n",
      "Epoch 61/300\n",
      "12/12 [==============================] - 0s 7ms/step - loss: 0.1879 - accuracy: 0.9323 - val_loss: 0.4262 - val_accuracy: 0.8333\n",
      "Epoch 62/300\n",
      "12/12 [==============================] - 0s 7ms/step - loss: 0.1853 - accuracy: 0.9271 - val_loss: 0.4150 - val_accuracy: 0.8333\n",
      "Epoch 63/300\n",
      "12/12 [==============================] - 0s 7ms/step - loss: 0.1838 - accuracy: 0.9323 - val_loss: 0.4383 - val_accuracy: 0.7708\n",
      "Epoch 64/300\n",
      "12/12 [==============================] - 0s 7ms/step - loss: 0.1835 - accuracy: 0.9323 - val_loss: 0.3847 - val_accuracy: 0.8333\n",
      "Epoch 65/300\n",
      "12/12 [==============================] - 0s 7ms/step - loss: 0.1797 - accuracy: 0.9323 - val_loss: 0.3971 - val_accuracy: 0.8125\n",
      "Epoch 66/300\n",
      "12/12 [==============================] - 0s 7ms/step - loss: 0.1781 - accuracy: 0.9427 - val_loss: 0.4045 - val_accuracy: 0.8125\n",
      "Epoch 67/300\n",
      "12/12 [==============================] - 0s 7ms/step - loss: 0.1780 - accuracy: 0.9271 - val_loss: 0.3680 - val_accuracy: 0.8333\n",
      "Epoch 68/300\n",
      "12/12 [==============================] - 0s 7ms/step - loss: 0.1779 - accuracy: 0.9323 - val_loss: 0.4122 - val_accuracy: 0.8125\n",
      "Epoch 69/300\n",
      "12/12 [==============================] - 0s 7ms/step - loss: 0.1760 - accuracy: 0.9375 - val_loss: 0.3556 - val_accuracy: 0.8333\n",
      "Epoch 70/300\n",
      "12/12 [==============================] - 0s 7ms/step - loss: 0.1741 - accuracy: 0.9375 - val_loss: 0.4071 - val_accuracy: 0.8125\n",
      "Epoch 71/300\n",
      "12/12 [==============================] - 0s 7ms/step - loss: 0.1729 - accuracy: 0.9323 - val_loss: 0.3817 - val_accuracy: 0.8125\n",
      "Epoch 72/300\n",
      "12/12 [==============================] - 0s 7ms/step - loss: 0.1749 - accuracy: 0.9323 - val_loss: 0.3259 - val_accuracy: 0.8750\n",
      "Epoch 73/300\n",
      "12/12 [==============================] - 0s 7ms/step - loss: 0.1705 - accuracy: 0.9375 - val_loss: 0.3826 - val_accuracy: 0.8125\n",
      "Epoch 74/300\n",
      "12/12 [==============================] - 0s 7ms/step - loss: 0.1706 - accuracy: 0.9427 - val_loss: 0.3473 - val_accuracy: 0.8542\n",
      "Epoch 75/300\n",
      "12/12 [==============================] - 0s 7ms/step - loss: 0.1661 - accuracy: 0.9427 - val_loss: 0.3853 - val_accuracy: 0.8125\n",
      "Epoch 76/300\n",
      "12/12 [==============================] - 0s 7ms/step - loss: 0.1678 - accuracy: 0.9375 - val_loss: 0.3947 - val_accuracy: 0.8125\n",
      "Epoch 77/300\n",
      "12/12 [==============================] - 0s 8ms/step - loss: 0.1690 - accuracy: 0.9375 - val_loss: 0.3165 - val_accuracy: 0.8958\n",
      "Epoch 78/300\n",
      "12/12 [==============================] - 0s 7ms/step - loss: 0.1663 - accuracy: 0.9375 - val_loss: 0.3619 - val_accuracy: 0.8333\n",
      "Epoch 79/300\n",
      "12/12 [==============================] - 0s 8ms/step - loss: 0.1630 - accuracy: 0.9323 - val_loss: 0.3508 - val_accuracy: 0.8333\n",
      "Epoch 80/300\n",
      "12/12 [==============================] - 0s 7ms/step - loss: 0.1642 - accuracy: 0.9375 - val_loss: 0.3457 - val_accuracy: 0.8333\n",
      "Epoch 81/300\n",
      "12/12 [==============================] - 0s 7ms/step - loss: 0.1637 - accuracy: 0.9375 - val_loss: 0.3723 - val_accuracy: 0.8125\n",
      "Epoch 82/300\n",
      "12/12 [==============================] - 0s 7ms/step - loss: 0.1638 - accuracy: 0.9323 - val_loss: 0.2964 - val_accuracy: 0.8750\n",
      "Epoch 83/300\n",
      "12/12 [==============================] - 0s 7ms/step - loss: 0.1633 - accuracy: 0.9323 - val_loss: 0.3649 - val_accuracy: 0.8333\n",
      "Epoch 84/300\n",
      "12/12 [==============================] - 0s 7ms/step - loss: 0.1598 - accuracy: 0.9323 - val_loss: 0.3227 - val_accuracy: 0.8750\n",
      "Epoch 85/300\n",
      "12/12 [==============================] - 0s 7ms/step - loss: 0.1617 - accuracy: 0.9323 - val_loss: 0.3607 - val_accuracy: 0.8333\n",
      "Epoch 86/300\n",
      "12/12 [==============================] - 0s 7ms/step - loss: 0.1600 - accuracy: 0.9323 - val_loss: 0.2974 - val_accuracy: 0.8750\n",
      "Epoch 87/300\n",
      "12/12 [==============================] - 0s 7ms/step - loss: 0.1610 - accuracy: 0.9323 - val_loss: 0.3734 - val_accuracy: 0.8125\n",
      "Epoch 88/300\n",
      "12/12 [==============================] - 0s 7ms/step - loss: 0.1600 - accuracy: 0.9375 - val_loss: 0.3053 - val_accuracy: 0.8750\n",
      "Epoch 89/300\n",
      "12/12 [==============================] - 0s 7ms/step - loss: 0.1556 - accuracy: 0.9375 - val_loss: 0.3259 - val_accuracy: 0.8542\n",
      "Epoch 90/300\n",
      "12/12 [==============================] - 0s 7ms/step - loss: 0.1574 - accuracy: 0.9427 - val_loss: 0.3220 - val_accuracy: 0.8542\n",
      "Epoch 91/300\n",
      "12/12 [==============================] - 0s 18ms/step - loss: 0.1534 - accuracy: 0.9427 - val_loss: 0.3226 - val_accuracy: 0.8542\n",
      "Epoch 92/300\n",
      "12/12 [==============================] - 0s 18ms/step - loss: 0.1552 - accuracy: 0.9375 - val_loss: 0.2965 - val_accuracy: 0.8750\n",
      "Epoch 93/300\n",
      "12/12 [==============================] - 0s 22ms/step - loss: 0.1542 - accuracy: 0.9427 - val_loss: 0.3542 - val_accuracy: 0.8542\n",
      "Epoch 94/300\n",
      "12/12 [==============================] - 0s 26ms/step - loss: 0.1523 - accuracy: 0.9375 - val_loss: 0.3106 - val_accuracy: 0.8750\n",
      "Epoch 95/300\n",
      "12/12 [==============================] - 0s 7ms/step - loss: 0.1508 - accuracy: 0.9427 - val_loss: 0.3246 - val_accuracy: 0.8750\n",
      "Epoch 96/300\n",
      "12/12 [==============================] - 0s 7ms/step - loss: 0.1506 - accuracy: 0.9323 - val_loss: 0.3076 - val_accuracy: 0.8750\n",
      "Epoch 97/300\n",
      "12/12 [==============================] - 0s 7ms/step - loss: 0.1521 - accuracy: 0.9479 - val_loss: 0.2819 - val_accuracy: 0.8750\n",
      "Epoch 98/300\n",
      "12/12 [==============================] - 0s 7ms/step - loss: 0.1489 - accuracy: 0.9427 - val_loss: 0.3218 - val_accuracy: 0.8750\n",
      "Epoch 99/300\n",
      "12/12 [==============================] - 0s 7ms/step - loss: 0.1500 - accuracy: 0.9531 - val_loss: 0.2952 - val_accuracy: 0.8750\n",
      "Epoch 100/300\n",
      "12/12 [==============================] - 0s 7ms/step - loss: 0.1474 - accuracy: 0.9427 - val_loss: 0.3145 - val_accuracy: 0.8750\n",
      "Epoch 101/300\n",
      "12/12 [==============================] - 0s 7ms/step - loss: 0.1482 - accuracy: 0.9479 - val_loss: 0.3072 - val_accuracy: 0.8750\n",
      "Epoch 102/300\n",
      "12/12 [==============================] - 0s 7ms/step - loss: 0.1462 - accuracy: 0.9479 - val_loss: 0.3116 - val_accuracy: 0.8750\n",
      "Epoch 103/300\n",
      "12/12 [==============================] - 0s 7ms/step - loss: 0.1461 - accuracy: 0.9479 - val_loss: 0.3136 - val_accuracy: 0.8750\n",
      "Epoch 104/300\n",
      "12/12 [==============================] - 0s 7ms/step - loss: 0.1449 - accuracy: 0.9479 - val_loss: 0.2936 - val_accuracy: 0.8750\n",
      "Epoch 105/300\n",
      "12/12 [==============================] - 0s 7ms/step - loss: 0.1452 - accuracy: 0.9479 - val_loss: 0.2811 - val_accuracy: 0.8958\n",
      "Epoch 106/300\n",
      "12/12 [==============================] - 0s 7ms/step - loss: 0.1448 - accuracy: 0.9479 - val_loss: 0.3016 - val_accuracy: 0.8750\n",
      "Epoch 107/300\n",
      "12/12 [==============================] - 0s 7ms/step - loss: 0.1460 - accuracy: 0.9427 - val_loss: 0.3198 - val_accuracy: 0.8750\n",
      "Epoch 108/300\n",
      "12/12 [==============================] - 0s 7ms/step - loss: 0.1450 - accuracy: 0.9479 - val_loss: 0.2728 - val_accuracy: 0.8958\n",
      "Epoch 109/300\n",
      "12/12 [==============================] - 0s 8ms/step - loss: 0.1467 - accuracy: 0.9479 - val_loss: 0.2971 - val_accuracy: 0.8750\n",
      "Epoch 110/300\n",
      "12/12 [==============================] - 0s 7ms/step - loss: 0.1411 - accuracy: 0.9479 - val_loss: 0.3123 - val_accuracy: 0.8750\n",
      "Epoch 111/300\n",
      "12/12 [==============================] - 0s 7ms/step - loss: 0.1434 - accuracy: 0.9531 - val_loss: 0.2820 - val_accuracy: 0.8958\n",
      "Epoch 112/300\n",
      "12/12 [==============================] - 0s 7ms/step - loss: 0.1405 - accuracy: 0.9583 - val_loss: 0.2795 - val_accuracy: 0.8958\n",
      "Epoch 113/300\n",
      "12/12 [==============================] - 0s 7ms/step - loss: 0.1401 - accuracy: 0.9531 - val_loss: 0.3017 - val_accuracy: 0.8750\n",
      "Epoch 114/300\n",
      "12/12 [==============================] - 0s 7ms/step - loss: 0.1406 - accuracy: 0.9531 - val_loss: 0.2865 - val_accuracy: 0.8958\n",
      "Epoch 115/300\n",
      "12/12 [==============================] - 0s 7ms/step - loss: 0.1400 - accuracy: 0.9531 - val_loss: 0.2876 - val_accuracy: 0.8958\n",
      "Epoch 116/300\n",
      "12/12 [==============================] - 0s 8ms/step - loss: 0.1390 - accuracy: 0.9531 - val_loss: 0.2934 - val_accuracy: 0.8750\n",
      "Epoch 117/300\n"
     ]
    },
    {
     "name": "stdout",
     "output_type": "stream",
     "text": [
      "12/12 [==============================] - 0s 7ms/step - loss: 0.1430 - accuracy: 0.9479 - val_loss: 0.2442 - val_accuracy: 0.9167\n",
      "Epoch 118/300\n",
      "12/12 [==============================] - 0s 7ms/step - loss: 0.1404 - accuracy: 0.9479 - val_loss: 0.3171 - val_accuracy: 0.8750\n",
      "Epoch 119/300\n",
      "12/12 [==============================] - 0s 7ms/step - loss: 0.1410 - accuracy: 0.9531 - val_loss: 0.2699 - val_accuracy: 0.8958\n",
      "Epoch 120/300\n",
      "12/12 [==============================] - 0s 7ms/step - loss: 0.1387 - accuracy: 0.9531 - val_loss: 0.2809 - val_accuracy: 0.8958\n",
      "Epoch 121/300\n",
      "12/12 [==============================] - 0s 7ms/step - loss: 0.1421 - accuracy: 0.9479 - val_loss: 0.3158 - val_accuracy: 0.8750\n",
      "Epoch 122/300\n",
      "12/12 [==============================] - 0s 7ms/step - loss: 0.1375 - accuracy: 0.9531 - val_loss: 0.2697 - val_accuracy: 0.9167\n",
      "Epoch 123/300\n",
      "12/12 [==============================] - 0s 7ms/step - loss: 0.1387 - accuracy: 0.9531 - val_loss: 0.2671 - val_accuracy: 0.8958\n",
      "Epoch 124/300\n",
      "12/12 [==============================] - 0s 7ms/step - loss: 0.1360 - accuracy: 0.9531 - val_loss: 0.2729 - val_accuracy: 0.8958\n",
      "Epoch 125/300\n",
      "12/12 [==============================] - 0s 7ms/step - loss: 0.1368 - accuracy: 0.9531 - val_loss: 0.2932 - val_accuracy: 0.8750\n",
      "Epoch 126/300\n",
      "12/12 [==============================] - 0s 7ms/step - loss: 0.1358 - accuracy: 0.9531 - val_loss: 0.2689 - val_accuracy: 0.9167\n",
      "Epoch 127/300\n",
      "12/12 [==============================] - 0s 7ms/step - loss: 0.1358 - accuracy: 0.9531 - val_loss: 0.2725 - val_accuracy: 0.9167\n",
      "Epoch 128/300\n",
      "12/12 [==============================] - 0s 7ms/step - loss: 0.1366 - accuracy: 0.9531 - val_loss: 0.2689 - val_accuracy: 0.9167\n",
      "Epoch 129/300\n",
      "12/12 [==============================] - 0s 7ms/step - loss: 0.1362 - accuracy: 0.9479 - val_loss: 0.3103 - val_accuracy: 0.8542\n",
      "Epoch 130/300\n",
      "12/12 [==============================] - 0s 7ms/step - loss: 0.1345 - accuracy: 0.9531 - val_loss: 0.2671 - val_accuracy: 0.9167\n",
      "Epoch 131/300\n",
      "12/12 [==============================] - 0s 7ms/step - loss: 0.1345 - accuracy: 0.9531 - val_loss: 0.2672 - val_accuracy: 0.9167\n",
      "Epoch 132/300\n",
      "12/12 [==============================] - 0s 7ms/step - loss: 0.1382 - accuracy: 0.9479 - val_loss: 0.2983 - val_accuracy: 0.8958\n",
      "Epoch 133/300\n",
      "12/12 [==============================] - 0s 7ms/step - loss: 0.1372 - accuracy: 0.9479 - val_loss: 0.2439 - val_accuracy: 0.9167\n",
      "Epoch 134/300\n",
      "12/12 [==============================] - 0s 7ms/step - loss: 0.1345 - accuracy: 0.9531 - val_loss: 0.2771 - val_accuracy: 0.9167\n",
      "Epoch 135/300\n",
      "12/12 [==============================] - 0s 7ms/step - loss: 0.1342 - accuracy: 0.9531 - val_loss: 0.3014 - val_accuracy: 0.8958\n",
      "Epoch 136/300\n",
      "12/12 [==============================] - 0s 8ms/step - loss: 0.1352 - accuracy: 0.9531 - val_loss: 0.2978 - val_accuracy: 0.9167\n",
      "Epoch 137/300\n",
      "12/12 [==============================] - 0s 7ms/step - loss: 0.1357 - accuracy: 0.9479 - val_loss: 0.2482 - val_accuracy: 0.9167\n",
      "Epoch 138/300\n",
      "12/12 [==============================] - 0s 7ms/step - loss: 0.1386 - accuracy: 0.9531 - val_loss: 0.2840 - val_accuracy: 0.9167\n",
      "Epoch 139/300\n",
      "12/12 [==============================] - 0s 7ms/step - loss: 0.1321 - accuracy: 0.9531 - val_loss: 0.2701 - val_accuracy: 0.9167\n",
      "Epoch 140/300\n",
      "12/12 [==============================] - 0s 7ms/step - loss: 0.1319 - accuracy: 0.9531 - val_loss: 0.2499 - val_accuracy: 0.9167\n",
      "Epoch 141/300\n",
      "12/12 [==============================] - 0s 8ms/step - loss: 0.1321 - accuracy: 0.9531 - val_loss: 0.2770 - val_accuracy: 0.9167\n",
      "Epoch 142/300\n",
      "12/12 [==============================] - 0s 7ms/step - loss: 0.1345 - accuracy: 0.9531 - val_loss: 0.2920 - val_accuracy: 0.8958\n",
      "Epoch 143/300\n",
      "12/12 [==============================] - 0s 7ms/step - loss: 0.1364 - accuracy: 0.9479 - val_loss: 0.2298 - val_accuracy: 0.9167\n",
      "Epoch 144/300\n",
      "12/12 [==============================] - 0s 8ms/step - loss: 0.1333 - accuracy: 0.9479 - val_loss: 0.3103 - val_accuracy: 0.8750\n",
      "Epoch 145/300\n",
      "12/12 [==============================] - 0s 7ms/step - loss: 0.1347 - accuracy: 0.9531 - val_loss: 0.2882 - val_accuracy: 0.9167\n",
      "Epoch 146/300\n",
      "12/12 [==============================] - 0s 7ms/step - loss: 0.1379 - accuracy: 0.9479 - val_loss: 0.2834 - val_accuracy: 0.8958\n",
      "Epoch 147/300\n",
      "12/12 [==============================] - 0s 7ms/step - loss: 0.1319 - accuracy: 0.9583 - val_loss: 0.2489 - val_accuracy: 0.9167\n",
      "Epoch 148/300\n",
      "12/12 [==============================] - 0s 7ms/step - loss: 0.1337 - accuracy: 0.9479 - val_loss: 0.2805 - val_accuracy: 0.9167\n",
      "Epoch 149/300\n",
      "12/12 [==============================] - 0s 7ms/step - loss: 0.1310 - accuracy: 0.9531 - val_loss: 0.2831 - val_accuracy: 0.9167\n",
      "Epoch 150/300\n",
      "12/12 [==============================] - 0s 7ms/step - loss: 0.1330 - accuracy: 0.9531 - val_loss: 0.2612 - val_accuracy: 0.9167\n",
      "Epoch 151/300\n",
      "12/12 [==============================] - 0s 7ms/step - loss: 0.1306 - accuracy: 0.9531 - val_loss: 0.2680 - val_accuracy: 0.9167\n",
      "Epoch 152/300\n",
      "12/12 [==============================] - 0s 7ms/step - loss: 0.1313 - accuracy: 0.9531 - val_loss: 0.2922 - val_accuracy: 0.8958\n",
      "Epoch 153/300\n",
      "12/12 [==============================] - 0s 7ms/step - loss: 0.1307 - accuracy: 0.9531 - val_loss: 0.2707 - val_accuracy: 0.9167\n",
      "Epoch 154/300\n",
      "12/12 [==============================] - 0s 7ms/step - loss: 0.1318 - accuracy: 0.9531 - val_loss: 0.2336 - val_accuracy: 0.9167\n",
      "Epoch 155/300\n",
      "12/12 [==============================] - 0s 7ms/step - loss: 0.1297 - accuracy: 0.9479 - val_loss: 0.2860 - val_accuracy: 0.9167\n",
      "Epoch 156/300\n",
      "12/12 [==============================] - 0s 8ms/step - loss: 0.1297 - accuracy: 0.9531 - val_loss: 0.2767 - val_accuracy: 0.9167\n",
      "Epoch 157/300\n",
      "12/12 [==============================] - 0s 7ms/step - loss: 0.1307 - accuracy: 0.9531 - val_loss: 0.2781 - val_accuracy: 0.9167\n",
      "Epoch 158/300\n",
      "12/12 [==============================] - 0s 7ms/step - loss: 0.1331 - accuracy: 0.9479 - val_loss: 0.3009 - val_accuracy: 0.8958\n",
      "Epoch 159/300\n",
      "12/12 [==============================] - 0s 7ms/step - loss: 0.1390 - accuracy: 0.9375 - val_loss: 0.2166 - val_accuracy: 0.9167\n",
      "Epoch 160/300\n",
      "12/12 [==============================] - 0s 8ms/step - loss: 0.1285 - accuracy: 0.9531 - val_loss: 0.2965 - val_accuracy: 0.8958\n",
      "Epoch 161/300\n",
      "12/12 [==============================] - 0s 7ms/step - loss: 0.1296 - accuracy: 0.9531 - val_loss: 0.2809 - val_accuracy: 0.9167\n",
      "Epoch 162/300\n",
      "12/12 [==============================] - 0s 7ms/step - loss: 0.1297 - accuracy: 0.9531 - val_loss: 0.2670 - val_accuracy: 0.9167\n",
      "Epoch 163/300\n",
      "12/12 [==============================] - 0s 8ms/step - loss: 0.1278 - accuracy: 0.9531 - val_loss: 0.2669 - val_accuracy: 0.9167\n",
      "Epoch 164/300\n",
      "12/12 [==============================] - 0s 7ms/step - loss: 0.1287 - accuracy: 0.9583 - val_loss: 0.2831 - val_accuracy: 0.9167\n",
      "Epoch 165/300\n",
      "12/12 [==============================] - 0s 7ms/step - loss: 0.1281 - accuracy: 0.9531 - val_loss: 0.2705 - val_accuracy: 0.9167\n",
      "Epoch 166/300\n",
      "12/12 [==============================] - 0s 7ms/step - loss: 0.1289 - accuracy: 0.9531 - val_loss: 0.2374 - val_accuracy: 0.9167\n",
      "Epoch 167/300\n",
      "12/12 [==============================] - 0s 7ms/step - loss: 0.1287 - accuracy: 0.9531 - val_loss: 0.2866 - val_accuracy: 0.9167\n",
      "Epoch 168/300\n",
      "12/12 [==============================] - 0s 7ms/step - loss: 0.1296 - accuracy: 0.9531 - val_loss: 0.2745 - val_accuracy: 0.9167\n",
      "Epoch 169/300\n",
      "12/12 [==============================] - 0s 7ms/step - loss: 0.1287 - accuracy: 0.9531 - val_loss: 0.2558 - val_accuracy: 0.9167\n",
      "Epoch 170/300\n",
      "12/12 [==============================] - 0s 7ms/step - loss: 0.1297 - accuracy: 0.9531 - val_loss: 0.3032 - val_accuracy: 0.8958\n",
      "Epoch 171/300\n",
      "12/12 [==============================] - 0s 7ms/step - loss: 0.1314 - accuracy: 0.9479 - val_loss: 0.2457 - val_accuracy: 0.9167\n",
      "Epoch 172/300\n",
      "12/12 [==============================] - 0s 7ms/step - loss: 0.1316 - accuracy: 0.9531 - val_loss: 0.2907 - val_accuracy: 0.8958\n",
      "Epoch 173/300\n",
      "12/12 [==============================] - 0s 7ms/step - loss: 0.1259 - accuracy: 0.9531 - val_loss: 0.2567 - val_accuracy: 0.9167\n",
      "Epoch 174/300\n"
     ]
    },
    {
     "name": "stdout",
     "output_type": "stream",
     "text": [
      "12/12 [==============================] - 0s 7ms/step - loss: 0.1279 - accuracy: 0.9583 - val_loss: 0.2584 - val_accuracy: 0.9167\n",
      "Epoch 175/300\n",
      "12/12 [==============================] - 0s 7ms/step - loss: 0.1273 - accuracy: 0.9531 - val_loss: 0.2612 - val_accuracy: 0.9167\n",
      "Epoch 176/300\n",
      "12/12 [==============================] - 0s 7ms/step - loss: 0.1267 - accuracy: 0.9583 - val_loss: 0.2717 - val_accuracy: 0.9167\n",
      "Epoch 177/300\n",
      "12/12 [==============================] - 0s 7ms/step - loss: 0.1285 - accuracy: 0.9583 - val_loss: 0.2676 - val_accuracy: 0.9167\n",
      "Epoch 178/300\n",
      "12/12 [==============================] - 0s 7ms/step - loss: 0.1275 - accuracy: 0.9531 - val_loss: 0.2580 - val_accuracy: 0.9167\n",
      "Epoch 179/300\n",
      "12/12 [==============================] - 0s 7ms/step - loss: 0.1264 - accuracy: 0.9531 - val_loss: 0.2615 - val_accuracy: 0.9167\n",
      "Epoch 180/300\n",
      "12/12 [==============================] - 0s 7ms/step - loss: 0.1275 - accuracy: 0.9583 - val_loss: 0.2739 - val_accuracy: 0.9167\n",
      "Epoch 181/300\n",
      "12/12 [==============================] - 0s 7ms/step - loss: 0.1282 - accuracy: 0.9531 - val_loss: 0.2613 - val_accuracy: 0.9167\n",
      "Epoch 182/300\n",
      "12/12 [==============================] - 0s 7ms/step - loss: 0.1294 - accuracy: 0.9479 - val_loss: 0.2409 - val_accuracy: 0.9375\n",
      "Epoch 183/300\n",
      "12/12 [==============================] - 0s 7ms/step - loss: 0.1266 - accuracy: 0.9531 - val_loss: 0.2719 - val_accuracy: 0.9167\n",
      "Epoch 184/300\n",
      "12/12 [==============================] - 0s 7ms/step - loss: 0.1285 - accuracy: 0.9479 - val_loss: 0.3151 - val_accuracy: 0.8958\n",
      "Epoch 185/300\n",
      "12/12 [==============================] - 0s 7ms/step - loss: 0.1308 - accuracy: 0.9531 - val_loss: 0.2618 - val_accuracy: 0.9167\n",
      "Epoch 186/300\n",
      "12/12 [==============================] - 0s 7ms/step - loss: 0.1303 - accuracy: 0.9531 - val_loss: 0.2831 - val_accuracy: 0.8958\n",
      "Epoch 187/300\n",
      "12/12 [==============================] - 0s 7ms/step - loss: 0.1274 - accuracy: 0.9531 - val_loss: 0.2591 - val_accuracy: 0.9167\n",
      "Epoch 188/300\n",
      "12/12 [==============================] - 0s 7ms/step - loss: 0.1262 - accuracy: 0.9531 - val_loss: 0.2649 - val_accuracy: 0.9167\n",
      "Epoch 189/300\n",
      "12/12 [==============================] - 0s 7ms/step - loss: 0.1256 - accuracy: 0.9531 - val_loss: 0.2627 - val_accuracy: 0.9167\n",
      "Epoch 190/300\n",
      "12/12 [==============================] - 0s 7ms/step - loss: 0.1265 - accuracy: 0.9531 - val_loss: 0.2499 - val_accuracy: 0.9375\n",
      "Epoch 191/300\n",
      "12/12 [==============================] - 0s 7ms/step - loss: 0.1252 - accuracy: 0.9531 - val_loss: 0.2791 - val_accuracy: 0.9167\n",
      "Epoch 192/300\n",
      "12/12 [==============================] - 0s 7ms/step - loss: 0.1256 - accuracy: 0.9531 - val_loss: 0.2669 - val_accuracy: 0.9167\n",
      "Epoch 193/300\n",
      "12/12 [==============================] - 0s 7ms/step - loss: 0.1258 - accuracy: 0.9531 - val_loss: 0.2667 - val_accuracy: 0.9167\n",
      "Epoch 194/300\n",
      "12/12 [==============================] - 0s 7ms/step - loss: 0.1280 - accuracy: 0.9531 - val_loss: 0.2711 - val_accuracy: 0.9167\n",
      "Epoch 195/300\n",
      "12/12 [==============================] - 0s 7ms/step - loss: 0.1276 - accuracy: 0.9531 - val_loss: 0.2338 - val_accuracy: 0.9375\n",
      "Epoch 196/300\n",
      "12/12 [==============================] - 0s 7ms/step - loss: 0.1264 - accuracy: 0.9583 - val_loss: 0.2788 - val_accuracy: 0.8958\n",
      "Epoch 197/300\n",
      "12/12 [==============================] - 0s 7ms/step - loss: 0.1249 - accuracy: 0.9583 - val_loss: 0.2753 - val_accuracy: 0.9167\n",
      "Epoch 198/300\n",
      "12/12 [==============================] - 0s 7ms/step - loss: 0.1281 - accuracy: 0.9531 - val_loss: 0.2364 - val_accuracy: 0.9167\n",
      "Epoch 199/300\n",
      "12/12 [==============================] - 0s 7ms/step - loss: 0.1235 - accuracy: 0.9583 - val_loss: 0.2820 - val_accuracy: 0.9167\n",
      "Epoch 200/300\n",
      "12/12 [==============================] - 0s 7ms/step - loss: 0.1270 - accuracy: 0.9531 - val_loss: 0.2901 - val_accuracy: 0.9167\n",
      "Epoch 201/300\n",
      "12/12 [==============================] - 0s 7ms/step - loss: 0.1250 - accuracy: 0.9531 - val_loss: 0.2644 - val_accuracy: 0.9167\n",
      "Epoch 202/300\n",
      "12/12 [==============================] - 0s 7ms/step - loss: 0.1287 - accuracy: 0.9583 - val_loss: 0.2424 - val_accuracy: 0.9375\n",
      "Epoch 203/300\n",
      "12/12 [==============================] - 0s 7ms/step - loss: 0.1239 - accuracy: 0.9531 - val_loss: 0.2840 - val_accuracy: 0.9167\n",
      "Epoch 204/300\n",
      "12/12 [==============================] - 0s 7ms/step - loss: 0.1256 - accuracy: 0.9531 - val_loss: 0.2782 - val_accuracy: 0.9167\n",
      "Epoch 205/300\n",
      "12/12 [==============================] - 0s 7ms/step - loss: 0.1262 - accuracy: 0.9531 - val_loss: 0.2389 - val_accuracy: 0.9375\n",
      "Epoch 206/300\n",
      "12/12 [==============================] - 0s 7ms/step - loss: 0.1254 - accuracy: 0.9479 - val_loss: 0.2522 - val_accuracy: 0.9375\n",
      "Epoch 207/300\n",
      "12/12 [==============================] - 0s 7ms/step - loss: 0.1237 - accuracy: 0.9531 - val_loss: 0.2799 - val_accuracy: 0.9167\n",
      "Epoch 208/300\n",
      "12/12 [==============================] - 0s 7ms/step - loss: 0.1286 - accuracy: 0.9531 - val_loss: 0.2700 - val_accuracy: 0.9167\n",
      "Epoch 209/300\n",
      "12/12 [==============================] - 0s 7ms/step - loss: 0.1249 - accuracy: 0.9583 - val_loss: 0.2587 - val_accuracy: 0.9167\n",
      "Epoch 210/300\n",
      "12/12 [==============================] - 0s 7ms/step - loss: 0.1244 - accuracy: 0.9531 - val_loss: 0.2791 - val_accuracy: 0.9167\n",
      "Epoch 211/300\n",
      "12/12 [==============================] - 0s 7ms/step - loss: 0.1238 - accuracy: 0.9531 - val_loss: 0.2731 - val_accuracy: 0.9167\n",
      "Epoch 212/300\n",
      "12/12 [==============================] - 0s 7ms/step - loss: 0.1237 - accuracy: 0.9531 - val_loss: 0.2605 - val_accuracy: 0.9375\n",
      "Epoch 213/300\n",
      "12/12 [==============================] - 0s 7ms/step - loss: 0.1240 - accuracy: 0.9531 - val_loss: 0.2699 - val_accuracy: 0.9375\n",
      "Epoch 214/300\n",
      "12/12 [==============================] - 0s 7ms/step - loss: 0.1256 - accuracy: 0.9531 - val_loss: 0.2777 - val_accuracy: 0.9167\n",
      "Epoch 215/300\n",
      "12/12 [==============================] - 0s 7ms/step - loss: 0.1271 - accuracy: 0.9531 - val_loss: 0.2594 - val_accuracy: 0.9375\n",
      "Epoch 216/300\n",
      "12/12 [==============================] - 0s 7ms/step - loss: 0.1256 - accuracy: 0.9531 - val_loss: 0.2378 - val_accuracy: 0.9375\n",
      "Epoch 217/300\n",
      "12/12 [==============================] - 0s 7ms/step - loss: 0.1252 - accuracy: 0.9479 - val_loss: 0.2717 - val_accuracy: 0.9167\n",
      "Epoch 218/300\n",
      "12/12 [==============================] - 0s 7ms/step - loss: 0.1249 - accuracy: 0.9531 - val_loss: 0.2626 - val_accuracy: 0.9375\n",
      "Epoch 219/300\n",
      "12/12 [==============================] - 0s 7ms/step - loss: 0.1246 - accuracy: 0.9531 - val_loss: 0.2941 - val_accuracy: 0.8958\n",
      "Epoch 220/300\n",
      "12/12 [==============================] - 0s 7ms/step - loss: 0.1244 - accuracy: 0.9531 - val_loss: 0.2474 - val_accuracy: 0.9375\n",
      "Epoch 221/300\n",
      "12/12 [==============================] - 0s 7ms/step - loss: 0.1263 - accuracy: 0.9531 - val_loss: 0.2802 - val_accuracy: 0.9375\n",
      "Epoch 222/300\n",
      "12/12 [==============================] - 0s 7ms/step - loss: 0.1235 - accuracy: 0.9583 - val_loss: 0.2580 - val_accuracy: 0.9167\n",
      "Epoch 223/300\n",
      "12/12 [==============================] - 0s 7ms/step - loss: 0.1245 - accuracy: 0.9583 - val_loss: 0.2477 - val_accuracy: 0.9375\n",
      "Epoch 224/300\n",
      "12/12 [==============================] - 0s 7ms/step - loss: 0.1291 - accuracy: 0.9531 - val_loss: 0.2943 - val_accuracy: 0.9167\n",
      "Epoch 225/300\n",
      "12/12 [==============================] - 0s 8ms/step - loss: 0.1244 - accuracy: 0.9531 - val_loss: 0.2355 - val_accuracy: 0.9375\n",
      "Epoch 226/300\n",
      "12/12 [==============================] - 0s 7ms/step - loss: 0.1240 - accuracy: 0.9479 - val_loss: 0.2648 - val_accuracy: 0.9375\n",
      "Epoch 227/300\n",
      "12/12 [==============================] - 0s 7ms/step - loss: 0.1251 - accuracy: 0.9531 - val_loss: 0.2747 - val_accuracy: 0.9167\n",
      "Epoch 228/300\n",
      "12/12 [==============================] - 0s 7ms/step - loss: 0.1224 - accuracy: 0.9531 - val_loss: 0.2700 - val_accuracy: 0.9375\n",
      "Epoch 229/300\n",
      "12/12 [==============================] - 0s 7ms/step - loss: 0.1232 - accuracy: 0.9531 - val_loss: 0.2618 - val_accuracy: 0.9375\n",
      "Epoch 230/300\n",
      "12/12 [==============================] - 0s 7ms/step - loss: 0.1236 - accuracy: 0.9531 - val_loss: 0.2619 - val_accuracy: 0.9375\n",
      "Epoch 231/300\n"
     ]
    },
    {
     "name": "stdout",
     "output_type": "stream",
     "text": [
      "12/12 [==============================] - 0s 7ms/step - loss: 0.1228 - accuracy: 0.9531 - val_loss: 0.2653 - val_accuracy: 0.9375\n",
      "Epoch 232/300\n",
      "12/12 [==============================] - 0s 7ms/step - loss: 0.1317 - accuracy: 0.9427 - val_loss: 0.3127 - val_accuracy: 0.8958\n",
      "Epoch 233/300\n",
      "12/12 [==============================] - 0s 7ms/step - loss: 0.1261 - accuracy: 0.9531 - val_loss: 0.2184 - val_accuracy: 0.9375\n",
      "Epoch 234/300\n",
      "12/12 [==============================] - 0s 7ms/step - loss: 0.1250 - accuracy: 0.9531 - val_loss: 0.2529 - val_accuracy: 0.9375\n",
      "Epoch 235/300\n",
      "12/12 [==============================] - 0s 7ms/step - loss: 0.1236 - accuracy: 0.9531 - val_loss: 0.2695 - val_accuracy: 0.9375\n",
      "Epoch 236/300\n",
      "12/12 [==============================] - 0s 7ms/step - loss: 0.1234 - accuracy: 0.9583 - val_loss: 0.2756 - val_accuracy: 0.9375\n",
      "Epoch 237/300\n",
      "12/12 [==============================] - 0s 7ms/step - loss: 0.1279 - accuracy: 0.9479 - val_loss: 0.2407 - val_accuracy: 0.9375\n",
      "Epoch 238/300\n",
      "12/12 [==============================] - 0s 7ms/step - loss: 0.1238 - accuracy: 0.9583 - val_loss: 0.3020 - val_accuracy: 0.8958\n",
      "Epoch 239/300\n",
      "12/12 [==============================] - 0s 7ms/step - loss: 0.1244 - accuracy: 0.9583 - val_loss: 0.2892 - val_accuracy: 0.9167\n",
      "Epoch 240/300\n",
      "12/12 [==============================] - 0s 7ms/step - loss: 0.1217 - accuracy: 0.9531 - val_loss: 0.2587 - val_accuracy: 0.9375\n",
      "Epoch 241/300\n",
      "12/12 [==============================] - 0s 7ms/step - loss: 0.1251 - accuracy: 0.9531 - val_loss: 0.2777 - val_accuracy: 0.9167\n",
      "Epoch 242/300\n",
      "12/12 [==============================] - 0s 7ms/step - loss: 0.1230 - accuracy: 0.9531 - val_loss: 0.2601 - val_accuracy: 0.9375\n",
      "Epoch 243/300\n",
      "12/12 [==============================] - 0s 7ms/step - loss: 0.1227 - accuracy: 0.9531 - val_loss: 0.2521 - val_accuracy: 0.9375\n",
      "Epoch 244/300\n",
      "12/12 [==============================] - 0s 7ms/step - loss: 0.1217 - accuracy: 0.9531 - val_loss: 0.2689 - val_accuracy: 0.9375\n",
      "Epoch 245/300\n",
      "12/12 [==============================] - 0s 7ms/step - loss: 0.1231 - accuracy: 0.9583 - val_loss: 0.2663 - val_accuracy: 0.9375\n",
      "Epoch 246/300\n",
      "12/12 [==============================] - 0s 7ms/step - loss: 0.1237 - accuracy: 0.9531 - val_loss: 0.2817 - val_accuracy: 0.9167\n",
      "Epoch 247/300\n",
      "12/12 [==============================] - 0s 7ms/step - loss: 0.1226 - accuracy: 0.9583 - val_loss: 0.2458 - val_accuracy: 0.9375\n",
      "Epoch 248/300\n",
      "12/12 [==============================] - 0s 7ms/step - loss: 0.1236 - accuracy: 0.9583 - val_loss: 0.2679 - val_accuracy: 0.9375\n",
      "Epoch 249/300\n",
      "12/12 [==============================] - 0s 7ms/step - loss: 0.1249 - accuracy: 0.9531 - val_loss: 0.2610 - val_accuracy: 0.9375\n",
      "Epoch 250/300\n",
      "12/12 [==============================] - 0s 7ms/step - loss: 0.1246 - accuracy: 0.9531 - val_loss: 0.2529 - val_accuracy: 0.9375\n",
      "Epoch 251/300\n",
      "12/12 [==============================] - 0s 7ms/step - loss: 0.1208 - accuracy: 0.9583 - val_loss: 0.2872 - val_accuracy: 0.9167\n",
      "Epoch 252/300\n",
      "12/12 [==============================] - 0s 7ms/step - loss: 0.1243 - accuracy: 0.9531 - val_loss: 0.2604 - val_accuracy: 0.9375\n",
      "Epoch 253/300\n",
      "12/12 [==============================] - 0s 7ms/step - loss: 0.1217 - accuracy: 0.9531 - val_loss: 0.2818 - val_accuracy: 0.9375\n",
      "Epoch 254/300\n",
      "12/12 [==============================] - 0s 7ms/step - loss: 0.1237 - accuracy: 0.9531 - val_loss: 0.2861 - val_accuracy: 0.9167\n",
      "Epoch 255/300\n",
      "12/12 [==============================] - 0s 7ms/step - loss: 0.1214 - accuracy: 0.9583 - val_loss: 0.2596 - val_accuracy: 0.9375\n",
      "Epoch 256/300\n",
      "12/12 [==============================] - 0s 7ms/step - loss: 0.1219 - accuracy: 0.9531 - val_loss: 0.2395 - val_accuracy: 0.9375\n",
      "Epoch 257/300\n",
      "12/12 [==============================] - 0s 7ms/step - loss: 0.1245 - accuracy: 0.9479 - val_loss: 0.2503 - val_accuracy: 0.9375\n",
      "Epoch 258/300\n",
      "12/12 [==============================] - 0s 7ms/step - loss: 0.1213 - accuracy: 0.9531 - val_loss: 0.2880 - val_accuracy: 0.9167\n",
      "Epoch 259/300\n",
      "12/12 [==============================] - 0s 7ms/step - loss: 0.1212 - accuracy: 0.9531 - val_loss: 0.2769 - val_accuracy: 0.9375\n",
      "Epoch 260/300\n",
      "12/12 [==============================] - 0s 7ms/step - loss: 0.1248 - accuracy: 0.9583 - val_loss: 0.2462 - val_accuracy: 0.9375\n",
      "Epoch 261/300\n",
      "12/12 [==============================] - 0s 7ms/step - loss: 0.1220 - accuracy: 0.9583 - val_loss: 0.2914 - val_accuracy: 0.9167\n",
      "Epoch 262/300\n",
      "12/12 [==============================] - 0s 7ms/step - loss: 0.1255 - accuracy: 0.9479 - val_loss: 0.2943 - val_accuracy: 0.9167\n",
      "Epoch 263/300\n",
      "12/12 [==============================] - 0s 7ms/step - loss: 0.1213 - accuracy: 0.9583 - val_loss: 0.2465 - val_accuracy: 0.9375\n",
      "Epoch 264/300\n",
      "12/12 [==============================] - 0s 7ms/step - loss: 0.1235 - accuracy: 0.9531 - val_loss: 0.2444 - val_accuracy: 0.9375\n",
      "Epoch 265/300\n",
      "12/12 [==============================] - 0s 8ms/step - loss: 0.1241 - accuracy: 0.9531 - val_loss: 0.2677 - val_accuracy: 0.9375\n",
      "Epoch 266/300\n",
      "12/12 [==============================] - 0s 7ms/step - loss: 0.1222 - accuracy: 0.9531 - val_loss: 0.2666 - val_accuracy: 0.9375\n",
      "Epoch 267/300\n",
      "12/12 [==============================] - 0s 7ms/step - loss: 0.1226 - accuracy: 0.9531 - val_loss: 0.2774 - val_accuracy: 0.9375\n",
      "Epoch 268/300\n",
      "12/12 [==============================] - 0s 7ms/step - loss: 0.1214 - accuracy: 0.9531 - val_loss: 0.2630 - val_accuracy: 0.9375\n",
      "Epoch 269/300\n",
      "12/12 [==============================] - 0s 7ms/step - loss: 0.1242 - accuracy: 0.9531 - val_loss: 0.2790 - val_accuracy: 0.9375\n",
      "Epoch 270/300\n",
      "12/12 [==============================] - 0s 7ms/step - loss: 0.1201 - accuracy: 0.9583 - val_loss: 0.2437 - val_accuracy: 0.9375\n",
      "Epoch 271/300\n",
      "12/12 [==============================] - 0s 7ms/step - loss: 0.1234 - accuracy: 0.9531 - val_loss: 0.2557 - val_accuracy: 0.9375\n",
      "Epoch 272/300\n",
      "12/12 [==============================] - 0s 7ms/step - loss: 0.1200 - accuracy: 0.9583 - val_loss: 0.2808 - val_accuracy: 0.9375\n",
      "Epoch 273/300\n",
      "12/12 [==============================] - 0s 7ms/step - loss: 0.1240 - accuracy: 0.9479 - val_loss: 0.2982 - val_accuracy: 0.9167\n",
      "Epoch 274/300\n",
      "12/12 [==============================] - 0s 7ms/step - loss: 0.1232 - accuracy: 0.9531 - val_loss: 0.2345 - val_accuracy: 0.9375\n",
      "Epoch 275/300\n",
      "12/12 [==============================] - 0s 7ms/step - loss: 0.1222 - accuracy: 0.9583 - val_loss: 0.2783 - val_accuracy: 0.9375\n",
      "Epoch 276/300\n",
      "12/12 [==============================] - 0s 7ms/step - loss: 0.1216 - accuracy: 0.9583 - val_loss: 0.2698 - val_accuracy: 0.9375\n",
      "Epoch 277/300\n",
      "12/12 [==============================] - 0s 7ms/step - loss: 0.1228 - accuracy: 0.9531 - val_loss: 0.2838 - val_accuracy: 0.9167\n",
      "Epoch 278/300\n",
      "12/12 [==============================] - 0s 7ms/step - loss: 0.1204 - accuracy: 0.9583 - val_loss: 0.2560 - val_accuracy: 0.9375\n",
      "Epoch 279/300\n",
      "12/12 [==============================] - 0s 7ms/step - loss: 0.1223 - accuracy: 0.9531 - val_loss: 0.2530 - val_accuracy: 0.9375\n",
      "Epoch 280/300\n",
      "12/12 [==============================] - 0s 7ms/step - loss: 0.1213 - accuracy: 0.9583 - val_loss: 0.2642 - val_accuracy: 0.9375\n",
      "Epoch 281/300\n",
      "12/12 [==============================] - 0s 7ms/step - loss: 0.1207 - accuracy: 0.9531 - val_loss: 0.2768 - val_accuracy: 0.9375\n",
      "Epoch 282/300\n",
      "12/12 [==============================] - 0s 7ms/step - loss: 0.1206 - accuracy: 0.9531 - val_loss: 0.2606 - val_accuracy: 0.9375\n",
      "Epoch 283/300\n",
      "12/12 [==============================] - 0s 7ms/step - loss: 0.1216 - accuracy: 0.9479 - val_loss: 0.2576 - val_accuracy: 0.9375\n",
      "Epoch 284/300\n",
      "12/12 [==============================] - 0s 7ms/step - loss: 0.1210 - accuracy: 0.9531 - val_loss: 0.2739 - val_accuracy: 0.9375\n",
      "Epoch 285/300\n",
      "12/12 [==============================] - 0s 7ms/step - loss: 0.1202 - accuracy: 0.9531 - val_loss: 0.2853 - val_accuracy: 0.9375\n",
      "Epoch 286/300\n",
      "12/12 [==============================] - 0s 7ms/step - loss: 0.1225 - accuracy: 0.9531 - val_loss: 0.2859 - val_accuracy: 0.9375\n",
      "Epoch 287/300\n",
      "12/12 [==============================] - 0s 7ms/step - loss: 0.1215 - accuracy: 0.9583 - val_loss: 0.2501 - val_accuracy: 0.9375\n",
      "Epoch 288/300\n"
     ]
    },
    {
     "name": "stdout",
     "output_type": "stream",
     "text": [
      "12/12 [==============================] - 0s 7ms/step - loss: 0.1240 - accuracy: 0.9531 - val_loss: 0.2763 - val_accuracy: 0.9375\n",
      "Epoch 289/300\n",
      "12/12 [==============================] - 0s 7ms/step - loss: 0.1220 - accuracy: 0.9531 - val_loss: 0.2626 - val_accuracy: 0.9375\n",
      "Epoch 290/300\n",
      "12/12 [==============================] - 0s 7ms/step - loss: 0.1230 - accuracy: 0.9583 - val_loss: 0.2409 - val_accuracy: 0.9375\n",
      "Epoch 291/300\n",
      "12/12 [==============================] - 0s 7ms/step - loss: 0.1206 - accuracy: 0.9531 - val_loss: 0.2828 - val_accuracy: 0.9375\n",
      "Epoch 292/300\n",
      "12/12 [==============================] - 0s 7ms/step - loss: 0.1210 - accuracy: 0.9531 - val_loss: 0.2628 - val_accuracy: 0.9375\n",
      "Epoch 293/300\n",
      "12/12 [==============================] - 0s 7ms/step - loss: 0.1205 - accuracy: 0.9531 - val_loss: 0.2529 - val_accuracy: 0.9375\n",
      "Epoch 294/300\n",
      "12/12 [==============================] - 0s 7ms/step - loss: 0.1203 - accuracy: 0.9583 - val_loss: 0.2757 - val_accuracy: 0.9375\n",
      "Epoch 295/300\n",
      "12/12 [==============================] - 0s 7ms/step - loss: 0.1227 - accuracy: 0.9531 - val_loss: 0.2869 - val_accuracy: 0.9167\n",
      "Epoch 296/300\n",
      "12/12 [==============================] - 0s 7ms/step - loss: 0.1217 - accuracy: 0.9531 - val_loss: 0.2507 - val_accuracy: 0.9375\n",
      "Epoch 297/300\n",
      "12/12 [==============================] - 0s 7ms/step - loss: 0.1203 - accuracy: 0.9583 - val_loss: 0.2723 - val_accuracy: 0.9375\n",
      "Epoch 298/300\n",
      "12/12 [==============================] - 0s 7ms/step - loss: 0.1212 - accuracy: 0.9531 - val_loss: 0.2794 - val_accuracy: 0.9375\n",
      "Epoch 299/300\n",
      "12/12 [==============================] - 0s 7ms/step - loss: 0.1204 - accuracy: 0.9531 - val_loss: 0.2522 - val_accuracy: 0.9375\n",
      "Epoch 300/300\n",
      "12/12 [==============================] - 0s 7ms/step - loss: 0.1209 - accuracy: 0.9583 - val_loss: 0.2824 - val_accuracy: 0.9375\n"
     ]
    }
   ],
   "source": [
    "model.compile(loss='categorical_crossentropy', optimizer='adam', metrics='accuracy')\n",
    "\n",
    "history = model.fit(train_x_scaled, train_y_one, epochs=300, batch_size=16, validation_split=0.2)"
   ]
  },
  {
   "cell_type": "code",
   "execution_count": 20,
   "id": "477421c8",
   "metadata": {
    "ExecuteTime": {
     "end_time": "2022-07-18T11:16:55.223230Z",
     "start_time": "2022-07-18T11:16:55.087804Z"
    }
   },
   "outputs": [
    {
     "data": {
      "image/png": "[encoded data removed]",
      "text/plain": [
       "<Figure size 1152x360 with 2 Axes>"
      ]
     },
     "metadata": {
      "needs_background": "light"
     },
     "output_type": "display_data"
    }
   ],
   "source": [
    "plt.figure(figsize=(16,5))\n",
    "plt.subplot(1, 2, 1)\n",
    "plt.xlabel('Epoch')\n",
    "plt.ylabel('Loss')\n",
    "\n",
    "plt.plot(history.history['loss'], label='Train Loss')\n",
    "plt.plot(history.history['val_loss'], label='Val Loss')\n",
    "plt.legend()\n",
    "\n",
    "plt.subplot(1,2,2)\n",
    "plt.xlabel('Epoch')\n",
    "plt.ylabel('Accuracy')\n",
    "plt.plot(history.history['accuracy'], label='Train Accuracy')\n",
    "plt.plot(history.history['val_accuracy'], label='Val Accuracy')\n",
    "plt.legend()\n",
    "plt.show()"
   ]
  },
  {
   "cell_type": "code",
   "execution_count": 35,
   "id": "5f2c0597",
   "metadata": {
    "ExecuteTime": {
     "end_time": "2022-07-18T11:21:50.459680Z",
     "start_time": "2022-07-18T11:21:50.317427Z"
    }
   },
   "outputs": [
    {
     "name": "stdout",
     "output_type": "stream",
     "text": [
      "8/8 [==============================] - 0s 7ms/step - loss: 0.1516 - accuracy: 0.9542\n",
      "Train Evaluation : [0.15158674120903015, 0.9541667103767395]\n",
      "2/2 [==============================] - 0s 6ms/step - loss: 0.2983 - accuracy: 0.9500\n",
      "Test Evaluation : [0.29825523495674133, 0.9500000476837158]\n"
     ]
    }
   ],
   "source": [
    "print(f'Train Evaluation : {model.evaluate(train_x_scaled, train_y_one)}')\n",
    "\n",
    "print(f'Test Evaluation : {model.evaluate(test_x_scaled, test_y_one)}')"
   ]
  },
  {
   "cell_type": "code",
   "execution_count": 36,
   "id": "adf924bd",
   "metadata": {
    "ExecuteTime": {
     "end_time": "2022-07-18T11:21:50.631016Z",
     "start_time": "2022-07-18T11:21:50.595128Z"
    }
   },
   "outputs": [
    {
     "data": {
      "text/plain": [
       "array([[1., 0., 0.],\n",
       "       [1., 0., 0.],\n",
       "       [1., 0., 0.],\n",
       "       [1., 0., 0.],\n",
       "       [1., 0., 0.]], dtype=float32)"
      ]
     },
     "execution_count": 36,
     "metadata": {},
     "output_type": "execute_result"
    }
   ],
   "source": [
    "y_pred = model.predict(test_x_scaled)\n",
    "\n",
    "y_pred = y_pred.round()\n",
    "y_pred[:5]"
   ]
  },
  {
   "cell_type": "code",
   "execution_count": 37,
   "id": "5c1e880b",
   "metadata": {
    "ExecuteTime": {
     "end_time": "2022-07-18T11:21:50.915306Z",
     "start_time": "2022-07-18T11:21:50.910765Z"
    }
   },
   "outputs": [
    {
     "name": "stdout",
     "output_type": "stream",
     "text": [
      "[0 0 0 0 0]\n"
     ]
    }
   ],
   "source": [
    "y_pred = np.argmax(y_pred, axis = 1).reshape(-1)\n",
    "print(y_pred[:5])"
   ]
  },
  {
   "cell_type": "code",
   "execution_count": 38,
   "id": "07842e9b",
   "metadata": {
    "ExecuteTime": {
     "end_time": "2022-07-18T11:21:51.215625Z",
     "start_time": "2022-07-18T11:21:51.209427Z"
    }
   },
   "outputs": [
    {
     "name": "stdout",
     "output_type": "stream",
     "text": [
      "['a' 'a' 'a' 'a' 'a'] ['a' 'a' 'a' 'a' 'a']\n"
     ]
    }
   ],
   "source": [
    "condlist = [y_pred==0, y_pred==1, y_pred==2]\n",
    "choicelist = ['a', 'b', 'c']\n",
    "\n",
    "y_pred = np.select(condlist, choicelist)\n",
    "\n",
    "print(y_pred[:5], y_test[:5])"
   ]
  },
  {
   "cell_type": "code",
   "execution_count": 39,
   "id": "0293196b",
   "metadata": {
    "ExecuteTime": {
     "end_time": "2022-07-18T11:22:29.600274Z",
     "start_time": "2022-07-18T11:22:29.589989Z"
    }
   },
   "outputs": [
    {
     "name": "stdout",
     "output_type": "stream",
     "text": [
      "[[20  0  0]\n",
      " [ 1 18  1]\n",
      " [ 0  1 19]]\n",
      "              precision    recall  f1-score   support\n",
      "\n",
      "           a       0.95      1.00      0.98        20\n",
      "           b       0.95      0.90      0.92        20\n",
      "           c       0.95      0.95      0.95        20\n",
      "\n",
      "    accuracy                           0.95        60\n",
      "   macro avg       0.95      0.95      0.95        60\n",
      "weighted avg       0.95      0.95      0.95        60\n",
      "\n"
     ]
    }
   ],
   "source": [
    "from sklearn.metrics import confusion_matrix\n",
    "\n",
    "print(confusion_matrix(y_test, y_pred))\n",
    "\n",
    "from sklearn.metrics import classification_report\n",
    "print(classification_report(y_test, y_pred))"
   ]
  },
  {
   "cell_type": "markdown",
   "id": "8fbab7c0",
   "metadata": {},
   "source": [
    "    - 딥러닝 과적합을 줄이는 방법\n",
    "        1. 데이터의 양 늘리기 (충분한 학습과 검증 환경 조성)\n",
    "        2. 모델의 복잡도 줄이기 (은닉층 수 및 가중치 규제)\n",
    "        3. 드롭아웃 (특정 노드 과대 의존 방지)\n",
    "        "
   ]
  },
  {
   "cell_type": "code",
   "execution_count": null,
   "id": "36df62bf",
   "metadata": {},
   "outputs": [],
   "source": []
  }
 ],
 "metadata": {
  "hide_input": false,
  "kernelspec": {
   "display_name": "Python 3 (ipykernel)",
   "language": "python",
   "name": "python3"
  },
  "language_info": {
   "codemirror_mode": {
    "name": "ipython",
    "version": 3
   },
   "file_extension": ".py",
   "mimetype": "text/x-python",
   "name": "python",
   "nbconvert_exporter": "python",
   "pygments_lexer": "ipython3",
   "version": "3.8.11"
  },
  "toc": {
   "base_numbering": 1,
   "nav_menu": {},
   "number_sections": true,
   "sideBar": true,
   "skip_h1_title": false,
   "title_cell": "Table of Contents",
   "title_sidebar": "Contents",
   "toc_cell": false,
   "toc_position": {},
   "toc_section_display": true,
   "toc_window_display": false
  },
  "varInspector": {
   "cols": {
    "lenName": 16,
    "lenType": 16,
    "lenVar": 40
   },
   "kernels_config": {
    "python": {
     "delete_cmd_postfix": "",
     "delete_cmd_prefix": "del ",
     "library": "var_list.py",
     "varRefreshCmd": "print(var_dic_list())"
    },
    "r": {
     "delete_cmd_postfix": ") ",
     "delete_cmd_prefix": "rm(",
     "library": "var_list.r",
     "varRefreshCmd": "cat(var_dic_list()) "
    }
   },
   "types_to_exclude": [
    "module",
    "function",
    "builtin_function_or_method",
    "instance",
    "_Feature"
   ],
   "window_display": false
  }
 },
 "nbformat": 4,
 "nbformat_minor": 5
}
